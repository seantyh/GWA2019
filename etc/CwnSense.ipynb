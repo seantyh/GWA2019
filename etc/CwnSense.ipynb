{
 "cells": [
  {
   "cell_type": "code",
   "execution_count": 1,
   "metadata": {},
   "outputs": [],
   "source": [
    "%load_ext autoreload\n",
    "%autoreload 2\n",
    "%matplotlib inline"
   ]
  },
  {
   "cell_type": "code",
   "execution_count": 2,
   "metadata": {},
   "outputs": [],
   "source": [
    "import sys\n",
    "sys.path.append(\"../30_Source\")"
   ]
  },
  {
   "cell_type": "code",
   "execution_count": 3,
   "metadata": {},
   "outputs": [
    {
     "name": "stdout",
     "output_type": "stream",
     "text": [
      "Better speed can be achieved with apex installed from https://www.github.com/nvidia/apex.\n"
     ]
    }
   ],
   "source": [
    "from pprint import pprint\n",
    "from CwnGraph import CwnBase, CwnSense\n",
    "from SenseGran import cwn_sense_utils as utils\n",
    "import numpy as np\n",
    "from flair.embeddings import BertEmbeddings, Sentence"
   ]
  },
  {
   "cell_type": "code",
   "execution_count": 4,
   "metadata": {},
   "outputs": [],
   "source": [
    "cwn = CwnBase()\n",
    "car_senses = cwn.find_senses(\"^汽$\")"
   ]
  },
  {
   "cell_type": "markdown",
   "metadata": {},
   "source": [
    "# Examples of \"汽\""
   ]
  },
  {
   "cell_type": "code",
   "execution_count": 5,
   "metadata": {},
   "outputs": [],
   "source": [
    "examples = {sense_x.id: sense_x.all_examples() for sense_x in car_senses if sense_x.examples}"
   ]
  },
  {
   "cell_type": "code",
   "execution_count": 6,
   "metadata": {},
   "outputs": [
    {
     "name": "stdout",
     "output_type": "stream",
     "text": [
      "{'07077301': ['塔內<汽>、液體能夠從窗口自由通過，填料層內的<汽>、液體分佈較改善。',\n",
      "              '牙醫師也怕被傳染，所以器具會用高壓<汽>消毒，所以，治療牙週病不必恐慌會得愛滋病。',\n",
      "              '據描述當時的情況稱：轟的一聲炸雷般巨響，發生了驚天動地的爆炸，頓時間磚石、鐵皮和液化<汽>鋼瓶夾著火團在空中橫飛。'],\n",
      " '07077302': ['用B液沖去殘留的水，再加B液於玻片上，微火加熱至微冒<汽>。',\n",
      "              '灶台裡邊的大鍋正燒著滾燙的水，白<汽>從鍋蓋邊沿滋滋地竄出。',\n",
      "              '如果用摩卡壺煮咖啡煮到一半，壺身旁有個小孔不斷地冒<汽>，正常嗎？'],\n",
      " '09004101': ['本校<汽>、機車管理單位為總務處、學務處及進修部。',\n",
      "              '本公司只銷售絕佳、優質、平價有口皆碑的<汽>、貨車。',\n",
      "              '<汽>修知識大全，目前全國最大最全的<汽>修知識資料庫。'],\n",
      " '09004102': ['國光號跟竹<汽>是同一家。',\n",
      "              '坊間傳出北<汽>將兼併福<汽>。',\n",
      "              '自上<汽>入主以後，05、06年都虧損的韓國雙龍07年終於實現了小幅盈利。'],\n",
      " '09004103': ['今天跟<汽>二乙的學弟們出遊。',\n",
      "              '以下為<汽>一學生重補修分科總表。',\n",
      "              '92年12月30日：至埔里弔唁<汽>三甲學生袁鈺濬。'],\n",
      " '09004104': ['中國<汽>柴煤三油午夜齊漲價。',\n",
      "              '鈴木與通用將聯合研製<汽>電混合動力車。',\n",
      "              '中油剛剛宣布調漲國內<汽>、柴油批售價格。']}\n",
      "gather 18 examples from 6 senses\n"
     ]
    }
   ],
   "source": [
    "pprint(examples)\n",
    "utils.report_examples(examples)"
   ]
  },
  {
   "cell_type": "code",
   "execution_count": 7,
   "metadata": {},
   "outputs": [],
   "source": [
    "bert = BertEmbeddings('bert-base-chinese', layers='-1,-2,-3,-4', pooling_operation='mean')"
   ]
  },
  {
   "cell_type": "code",
   "execution_count": 8,
   "metadata": {},
   "outputs": [
    {
     "name": "stdout",
     "output_type": "stream",
     "text": [
      "{'07077301': SenseExamples(target_map={0: [1, 3], 1: [1], 2: [1]}, sentences=[Sentence: \"塔內 汽 、液體能夠從窗口自由通過，填料層內的 汽 、液體分佈較改善。\" - 5 Tokens, Sentence: \"牙醫師也怕被傳染，所以器具會用高壓 汽 消毒，所以，治療牙週病不必恐慌會得愛滋病。\" - 3 Tokens, Sentence: \"據描述當時的情況稱：轟的一聲炸雷般巨響，發生了驚天動地的爆炸，頓時間磚石、鐵皮和液化 汽 鋼瓶夾著火團在空中橫飛。\" - 3 Tokens], embeddings=tensor([[ 0.4196, -0.9367, -1.0510,  ..., -0.3137,  0.3921,  0.4001],\n",
      "        [ 1.1904, -0.1677, -1.0397,  ..., -0.4225, -0.8640,  0.1903],\n",
      "        [-0.1437, -0.5289, -1.3513,  ..., -0.2916, -0.1796,  0.7723]])),\n",
      " '07077302': SenseExamples(target_map={0: [1], 1: [1], 2: [1]}, sentences=[Sentence: \"用B液沖去殘留的水，再加B液於玻片上，微火加熱至微冒 汽 。\" - 3 Tokens, Sentence: \"灶台裡邊的大鍋正燒著滾燙的水，白 汽 從鍋蓋邊沿滋滋地竄出。\" - 3 Tokens, Sentence: \"如果用摩卡壺煮咖啡煮到一半，壺身旁有個小孔不斷地冒 汽 ，正常嗎？\" - 3 Tokens], embeddings=tensor([[-0.7853, -0.7176, -1.0279,  ..., -0.8762, -1.0522, -0.5165],\n",
      "        [ 0.7715, -0.7150, -0.7439,  ...,  0.2167, -0.2240, -0.4655],\n",
      "        [ 0.1171, -0.6269, -0.5519,  ..., -0.8454, -0.4986, -0.3884]])),\n",
      " '09004101': SenseExamples(target_map={0: [1], 1: [1], 2: [0, 2]}, sentences=[Sentence: \"本校 汽 、機車管理單位為總務處、學務處及進修部。\" - 3 Tokens, Sentence: \"本公司只銷售絕佳、優質、平價有口皆碑的 汽 、貨車。\" - 3 Tokens, Sentence: \"汽 修知識大全，目前全國最大最全的 汽 修知識資料庫。\" - 4 Tokens], embeddings=tensor([[ 0.2352, -0.9486, -0.9289,  ...,  0.0040, -0.4232,  1.0463],\n",
      "        [-0.1913, -0.7817, -2.1182,  ...,  0.2399, -0.8088,  0.8639],\n",
      "        [-0.2655, -0.3091, -0.1123,  ..., -0.6935, -1.5629, -0.1348]])),\n",
      " '09004102': SenseExamples(target_map={0: [1], 1: [1, 3], 2: [1]}, sentences=[Sentence: \"國光號跟竹 汽 是同一家。\" - 3 Tokens, Sentence: \"坊間傳出北 汽 將兼併福 汽 。\" - 5 Tokens, Sentence: \"自上 汽 入主以後，05、06年都虧損的韓國雙龍07年終於實現了小幅盈利。\" - 3 Tokens], embeddings=tensor([[ 0.1172, -0.6927, -0.2171,  ..., -0.1906, -1.2849,  0.6065],\n",
      "        [-0.0420, -1.3845, -0.8651,  ..., -0.1314, -1.3004,  0.2743],\n",
      "        [-0.1783, -1.1386, -0.6009,  ...,  0.2138, -1.3028,  0.2736]])),\n",
      " '09004103': SenseExamples(target_map={0: [1], 1: [1], 2: [1]}, sentences=[Sentence: \"今天跟 汽 二乙的學弟們出遊。\" - 3 Tokens, Sentence: \"以下為 汽 一學生重補修分科總表。\" - 3 Tokens, Sentence: \"92年12月30日：至埔里弔唁 汽 三甲學生袁鈺濬。\" - 3 Tokens], embeddings=tensor([[ 0.0772,  0.3233, -1.2681,  ..., -0.2962, -0.2487,  1.0349],\n",
      "        [-0.3869,  0.0819, -1.4965,  ..., -0.4716,  0.3668,  0.8534],\n",
      "        [-0.0150,  0.3342, -0.9628,  ...,  0.6821,  0.5345,  0.0971]])),\n",
      " '09004104': SenseExamples(target_map={0: [1], 1: [1], 2: [1]}, sentences=[Sentence: \"中國 汽 柴煤三油午夜齊漲價。\" - 3 Tokens, Sentence: \"鈴木與通用將聯合研製 汽 電混合動力車。\" - 3 Tokens, Sentence: \"中油剛剛宣布調漲國內 汽 、柴油批售價格。\" - 3 Tokens], embeddings=tensor([[-0.0213, -0.7603, -1.4945,  ...,  0.9210, -0.4877,  0.8343],\n",
      "        [ 0.1518, -0.3654, -1.4596,  ..., -0.0767, -1.1171,  0.8093],\n",
      "        [ 0.2516, -0.9163, -1.6925,  ...,  0.6204, -0.6899,  0.4140]]))}\n"
     ]
    }
   ],
   "source": [
    "sense_data = utils.compute_sense_data(examples, bert)\n",
    "pprint(sense_data)"
   ]
  },
  {
   "cell_type": "code",
   "execution_count": 9,
   "metadata": {},
   "outputs": [
    {
     "name": "stdout",
     "output_type": "stream",
     "text": [
      "F(5, 12) = 2.83, p = 0.0647\n"
     ]
    }
   ],
   "source": [
    "stats = utils.compute_statistics(sense_data)\n",
    "def format_f_stat(stats):\n",
    "    df1, df2, Fstat = stats[1]\n",
    "    pval = stats[0]\n",
    "    return f\"F({df1}, {df2}) = {Fstat:.2f}, p = {pval:0.4f}\"\n",
    "print(format_f_stat(stats))"
   ]
  },
  {
   "cell_type": "markdown",
   "metadata": {},
   "source": [
    "# Sense embedding in other lemmas"
   ]
  },
  {
   "cell_type": "code",
   "execution_count": 10,
   "metadata": {},
   "outputs": [
    {
     "name": "stdout",
     "output_type": "stream",
     "text": [
      "[BERT] 汽車: F(2, 7) = 3.44, p = 0.0912\n",
      "[RAND] 汽車: F(2, 7) = 0.99, p = 0.4169\n",
      "[BERT] 汽: F(5, 12) = 2.83, p = 0.0647\n",
      "[RAND] 汽: F(5, 12) = 1.00, p = 0.4606\n",
      "[BERT] 車: F(9, 22) = 2.75, p = 0.0255\n",
      "[RAND] 車: F(9, 22) = 1.01, p = 0.4621\n",
      "[BERT] 梅花: F(0, 6) = nan, p = nan\n",
      "[RAND] 梅花: F(0, 6) = nan, p = nan\n",
      "[BERT] 梅: F(4, 12) = 2.84, p = 0.0718\n",
      "[RAND] 梅: F(4, 12) = 1.01, p = 0.4381\n",
      "[BERT] 花: F(14, 33) = 3.33, p = 0.0022\n",
      "[RAND] 花: F(14, 33) = 1.01, p = 0.4668\n",
      "[BERT] 電腦: F(2, 7) = 2.19, p = 0.1826\n",
      "[RAND] 電腦: F(2, 7) = 1.36, p = 0.3172\n",
      "[BERT] 電: F(7, 16) = 4.89, p = 0.0041\n",
      "[RAND] 電: F(7, 16) = 1.01, p = 0.4625\n",
      "[BERT] 腦: F(5, 13) = 2.44, p = 0.0904\n",
      "[RAND] 腦: F(5, 13) = 1.00, p = 0.4560\n"
     ]
    }
   ],
   "source": [
    "lemmas = [\"汽車\", \"汽\", \"車\", \"梅花\", \"梅\", \"花\", \"電腦\", \"電\", \"腦\"]\n",
    "for lemma_x in lemmas:\n",
    "    stat_x = utils.make_bert_statistics(lemma_x, cwn, bert)\n",
    "    if not stat_x: continue\n",
    "    stat_dbg = utils.make_bert_statistics(lemma_x, cwn, bert, debug=True)\n",
    "    print(f\"[BERT] {lemma_x}: {format_f_stat(stat_x)}\")\n",
    "    print(f\"[RAND] {lemma_x}: {format_f_stat(stat_dbg)}\")"
   ]
  },
  {
   "cell_type": "code",
   "execution_count": 11,
   "metadata": {},
   "outputs": [
    {
     "data": {
      "text/plain": [
       "(0.027867271198391275, (8, 18, 2.9259276268523595))"
      ]
     },
     "execution_count": 11,
     "metadata": {},
     "output_type": "execute_result"
    }
   ],
   "source": [
    "utils.make_bert_statistics(\"停\", cwn, bert)"
   ]
  },
  {
   "cell_type": "markdown",
   "metadata": {},
   "source": [
    "# Distance between synset embeddings"
   ]
  },
  {
   "cell_type": "code",
   "execution_count": 12,
   "metadata": {},
   "outputs": [],
   "source": [
    "syn1_ids, syn1_emb = utils.compute_sense_embedding(\"花\", cwn, bert)"
   ]
  },
  {
   "cell_type": "code",
   "execution_count": 13,
   "metadata": {},
   "outputs": [],
   "source": [
    "syn2_ids, syn2_emb = utils.compute_sense_embedding(\"開花\", cwn, bert)"
   ]
  },
  {
   "cell_type": "code",
   "execution_count": 14,
   "metadata": {},
   "outputs": [],
   "source": [
    "from scipy.spatial.distance import cdist\n",
    "import matplotlib.pyplot as plt"
   ]
  },
  {
   "cell_type": "code",
   "execution_count": 15,
   "metadata": {},
   "outputs": [
    {
     "name": "stdout",
     "output_type": "stream",
     "text": [
      "<CwnSense[05229001](花): 植物的主要器官之一，主要用於繁殖，通常具有顏色鮮豔和形狀漂亮的花瓣。>, <CwnSense[09308901](開花): 形容有花植物的花朵長出並舒展。>\n"
     ]
    },
    {
     "data": {
      "image/png": "[encoded data removed]",
      "text/plain": [
       "<Figure size 432x288 with 1 Axes>"
      ]
     },
     "metadata": {
      "needs_background": "light"
     },
     "output_type": "display_data"
    }
   ],
   "source": [
    "dist_mat = cdist(syn1_emb, syn2_emb, \"euclidean\")\n",
    "plt.imshow(dist_mat)\n",
    "s1_id, s2_id = np.unravel_index(np.argmin(dist_mat), dist_mat.shape)\n",
    "s1 = cwn.from_sense_id(syn1_ids[s1_id])\n",
    "s2 = cwn.from_sense_id(syn2_ids[s2_id])\n",
    "print(f\"{s1}, {s2}\")"
   ]
  },
  {
   "cell_type": "code",
   "execution_count": 22,
   "metadata": {},
   "outputs": [
    {
     "data": {
      "text/plain": [
       "[((<CwnSense[06031401](花): 消耗物品或能量去換取其他等值特定對象。>,\n",
       "   <CwnSense[05064901](花費): 消耗物品或能量去換取其他等值特定對象。>),\n",
       "  19.892921351815172),\n",
       " ((<CwnSense[06031401](花): 消耗物品或能量去換取其他等值特定對象。>,\n",
       "   <CwnSense[05064902](花費): 用於換取等值特定對象的金錢。>),\n",
       "  25.422061774399552),\n",
       " ((<CwnSense[05229007](花): 形容因眼睛看到多而繁雜的事物，而無法辨識清楚。>,\n",
       "   <CwnSense[05064901](花費): 消耗物品或能量去換取其他等值特定對象。>),\n",
       "  35.21227453461591),\n",
       " ((<CwnSense[05229008](花): 形容物體表面有刮痕或因磨損而不平滑。>,\n",
       "   <CwnSense[05064901](花費): 消耗物品或能量去換取其他等值特定對象。>),\n",
       "  35.21330694518948),\n",
       " ((<CwnSense[05229003](花): 形容顏色混雜交錯的。>,\n",
       "   <CwnSense[05064902](花費): 用於換取等值特定對象的金錢。>),\n",
       "  35.64884446498777)]"
      ]
     },
     "execution_count": 22,
     "metadata": {},
     "output_type": "execute_result"
    }
   ],
   "source": [
    "utils.connect_lemma(\"花\", \"花費\", cwn, bert, n=5)"
   ]
  },
  {
   "cell_type": "code",
   "execution_count": 17,
   "metadata": {},
   "outputs": [
    {
     "data": {
      "text/plain": [
       "(0.21059901476946763, (1, 10, 1.7896215856551676))"
      ]
     },
     "execution_count": 17,
     "metadata": {},
     "output_type": "execute_result"
    }
   ],
   "source": [
    "utils.make_bert_statistics(\"花費\", cwn, bert)"
   ]
  },
  {
   "cell_type": "code",
   "execution_count": 18,
   "metadata": {},
   "outputs": [
    {
     "data": {
      "text/plain": [
       "['他們只是參與過整個訪談，對作品多<花>了一點時間去瞭解。',\n",
       " '過了幾天，人走動頻繁就灰飛煙滅了，無論多細緻及<花>了多少心血。',\n",
       " '不<花>腦筋的喜劇能投其所好，也因此甚有口碑的製作人朱朱兩檔新戲希望之歌。',\n",
       " '那些日子裡，真可以說是步步驚魂，幾乎是把所有的力氣，把整個的童年，都<花>在追趕別人步伐。',\n",
       " '隨便罰，沒關係，我現在錢太多了<花>不完。',\n",
       " '她說：「給我錢也不能<花>，有什麼意思。」她的期望不在這裡。',\n",
       " '煉鋼得不償失。用那麼多的人，<花>那麼多的錢，賬不算是不行的。']"
      ]
     },
     "execution_count": 18,
     "metadata": {},
     "output_type": "execute_result"
    }
   ],
   "source": [
    "cwn.from_sense_id(\"06031401\").all_examples()"
   ]
  },
  {
   "cell_type": "code",
   "execution_count": 19,
   "metadata": {},
   "outputs": [
    {
     "data": {
      "text/plain": [
       "['總統對中油努力探勘油源所<花費>的心力，表示肯定。',\n",
       " '因為資訊實在太多，即使走馬看花，也要<花費>不少時間。',\n",
       " '薄薄的一張證明，又不需要<花費>很大人力，卻要索價三百元。',\n",
       " '第一階段選擇場址評估約需<花費>一千五百萬元。',\n",
       " 'IBM相當重視研究開發，每年<花費>在此方面的經費不下數十億美元。',\n",
       " '整體經營與制度化，導致包括交通、住宿及其他<花費>的資金，大多未能流入當地社會。',\n",
       " '職業訓練是投資，而不是<花費>。',\n",
       " '只要有興趣，就不會在乎金錢上的<花費>。',\n",
       " '計有卅八宗個案，<花費>金額為四十六萬五千五百廿五元。']"
      ]
     },
     "execution_count": 19,
     "metadata": {},
     "output_type": "execute_result"
    }
   ],
   "source": [
    "cwn.from_sense_id(\"05064901\").all_examples()"
   ]
  },
  {
   "cell_type": "code",
   "execution_count": 20,
   "metadata": {},
   "outputs": [
    {
     "data": {
      "text/plain": [
       "[('has_facet', <CwnFacet[0506490101](花費): 消耗後述時間或能量。>),\n",
       " ('has_facet', <CwnFacet[0506490102](花費): 付出金錢。>),\n",
       " ('has_facet', <CwnFacet[0506490103](花費): 付出金錢。>),\n",
       " ('is_synset', <CwnSense[syn_014948](----): >),\n",
       " ('synonym(rev)', <CwnSense[04017403](用): 付出金錢。>),\n",
       " ('synonym(rev)', <CwnFacet[0603140101](花): 消耗後述時間或能量。>),\n",
       " ('synonym(rev)', <CwnFacet[0603140102](花): 付出金錢。>),\n",
       " ('synonym(rev)', <CwnSense[06560204](使): 付出金錢。>),\n",
       " ('synonym(rev)', <CwnFacet[0516770101](費): 消耗後述時間或能量。>),\n",
       " ('synonym(rev)', <CwnFacet[0516770102](費): 付出金錢。>),\n",
       " ('synonym(rev)', <CwnFacet[0667200101](花錢): 付出金錢。>),\n",
       " ('synonym(rev)', <CwnFacet[0667200102](花錢): 付出金錢。>),\n",
       " ('synonym(rev)', <CwnSense[06721068](開): 付出金錢。>),\n",
       " ('synonym(rev)', <CwnSense[06685715](投): 比喻付出金錢。>),\n",
       " ('synonym(rev)', <CwnFacet[0672240201](使用): 付出金錢。>),\n",
       " ('synonym(rev)', <CwnFacet[0672240202](使用): 付出金錢。>),\n",
       " ('synonym(rev)', <CwnSense[06552802](投入): 比喻付出金錢。>),\n",
       " ('hypernym(rev)', <CwnSense[09012702](斥): 付出金錢，通常數目較大。>)]"
      ]
     },
     "execution_count": 20,
     "metadata": {},
     "output_type": "execute_result"
    }
   ],
   "source": [
    "cwn.from_sense_id(\"05064901\").relations"
   ]
  },
  {
   "cell_type": "markdown",
   "metadata": {},
   "source": [
    "## test that segmentation doesn't matter in BERT"
   ]
  },
  {
   "cell_type": "code",
   "execution_count": 51,
   "metadata": {},
   "outputs": [],
   "source": [
    "ss0 = bert.embed([Sentence(\"我 開 車 去 修\"), Sentence(\"我開 車 去修\")])"
   ]
  },
  {
   "cell_type": "code",
   "execution_count": 52,
   "metadata": {},
   "outputs": [
    {
     "name": "stdout",
     "output_type": "stream",
     "text": [
      "Token: 3 車 tensor([-0.1314, -0.2001, -0.2039,  ...,  0.7550, -0.4735,  0.4817])\n",
      "Token: 2 車 tensor([-0.1314, -0.2001, -0.2039,  ...,  0.7550, -0.4735,  0.4817])\n"
     ]
    }
   ],
   "source": [
    "print(ss0[0][2], ss0[0][2].embedding)\n",
    "print(ss0[1][1], ss0[1][1].embedding)"
   ]
  }
 ],
 "metadata": {
  "kernelspec": {
   "display_name": "Python 3",
   "language": "python",
   "name": "python3"
  },
  "language_info": {
   "codemirror_mode": {
    "name": "ipython",
    "version": 3
   },
   "file_extension": ".py",
   "mimetype": "text/x-python",
   "name": "python",
   "nbconvert_exporter": "python",
   "pygments_lexer": "ipython3",
   "version": "3.7.2"
  }
 },
 "nbformat": 4,
 "nbformat_minor": 2
}
