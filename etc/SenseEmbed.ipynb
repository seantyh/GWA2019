{
 "cells": [
  {
   "cell_type": "code",
   "execution_count": 1,
   "metadata": {},
   "outputs": [],
   "source": [
    "%load_ext autoreload\n",
    "%autoreload 2\n",
    "%matplotlib inline"
   ]
  },
  {
   "cell_type": "code",
   "execution_count": 2,
   "metadata": {},
   "outputs": [],
   "source": [
    "import sys, os\n",
    "sys.path.append(\"../\")"
   ]
  },
  {
   "cell_type": "code",
   "execution_count": 71,
   "metadata": {},
   "outputs": [],
   "source": [
    "import pickle\n",
    "import pandas as pd\n",
    "import numpy as np\n",
    "import matplotlib.pyplot as plt\n",
    "import seaborn as sns\n",
    "import torch\n",
    "from flair.embeddings import Sentence, BertEmbeddings\n",
    "from tqdm import tqdm_notebook as tqdm"
   ]
  },
  {
   "cell_type": "code",
   "execution_count": 4,
   "metadata": {},
   "outputs": [],
   "source": [
    "from CwnGraph import CwnBase, CwnSense\n",
    "from GWA2019 import cwn_sense_utils as utils"
   ]
  },
  {
   "cell_type": "code",
   "execution_count": 5,
   "metadata": {},
   "outputs": [],
   "source": [
    "cwn = CwnBase()"
   ]
  },
  {
   "cell_type": "code",
   "execution_count": 6,
   "metadata": {},
   "outputs": [],
   "source": [
    "HYPER_ANNOT_DATA_PATH = \"../data/merged_checked.csv\"\n",
    "if not os.path.exists(HYPER_ANNOT_DATA_PATH):\n",
    "    raise FileNotFoundError(HYPER_ANNOT_DATA_PATH, \"not found\")"
   ]
  },
  {
   "cell_type": "code",
   "execution_count": 7,
   "metadata": {},
   "outputs": [
    {
     "data": {
      "text/html": [
       "<div>\n",
       "<style scoped>\n",
       "    .dataframe tbody tr th:only-of-type {\n",
       "        vertical-align: middle;\n",
       "    }\n",
       "\n",
       "    .dataframe tbody tr th {\n",
       "        vertical-align: top;\n",
       "    }\n",
       "\n",
       "    .dataframe thead th {\n",
       "        text-align: right;\n",
       "    }\n",
       "</style>\n",
       "<table border=\"1\" class=\"dataframe\">\n",
       "  <thead>\n",
       "    <tr style=\"text-align: right;\">\n",
       "      <th></th>\n",
       "      <th>lemma</th>\n",
       "      <th>c1</th>\n",
       "      <th>c2</th>\n",
       "      <th>statement</th>\n",
       "      <th>response</th>\n",
       "    </tr>\n",
       "  </thead>\n",
       "  <tbody>\n",
       "    <tr>\n",
       "      <th>0</th>\n",
       "      <td>一些</td>\n",
       "      <td>一</td>\n",
       "      <td>些</td>\n",
       "      <td>一些 是一種 些</td>\n",
       "      <td>0</td>\n",
       "    </tr>\n",
       "    <tr>\n",
       "      <th>1</th>\n",
       "      <td>一半</td>\n",
       "      <td>一</td>\n",
       "      <td>半</td>\n",
       "      <td>一半 是一種 半</td>\n",
       "      <td>0</td>\n",
       "    </tr>\n",
       "    <tr>\n",
       "      <th>2</th>\n",
       "      <td>一如</td>\n",
       "      <td>一</td>\n",
       "      <td>如</td>\n",
       "      <td>一如 是一種 如</td>\n",
       "      <td>0</td>\n",
       "    </tr>\n",
       "    <tr>\n",
       "      <th>3</th>\n",
       "      <td>一定</td>\n",
       "      <td>一</td>\n",
       "      <td>定</td>\n",
       "      <td>一定 是一種 定</td>\n",
       "      <td>1</td>\n",
       "    </tr>\n",
       "    <tr>\n",
       "      <th>4</th>\n",
       "      <td>一律</td>\n",
       "      <td>一</td>\n",
       "      <td>律</td>\n",
       "      <td>一律 是一種 律</td>\n",
       "      <td>0</td>\n",
       "    </tr>\n",
       "  </tbody>\n",
       "</table>\n",
       "</div>"
      ],
      "text/plain": [
       "  lemma c1 c2 statement  response\n",
       "0    一些  一  些  一些 是一種 些         0\n",
       "1    一半  一  半  一半 是一種 半         0\n",
       "2    一如  一  如  一如 是一種 如         0\n",
       "3    一定  一  定  一定 是一種 定         1\n",
       "4    一律  一  律  一律 是一種 律         0"
      ]
     },
     "execution_count": 7,
     "metadata": {},
     "output_type": "execute_result"
    }
   ],
   "source": [
    "hyper_annot_data = pd.read_csv(HYPER_ANNOT_DATA_PATH)\n",
    "hyper_annot_data.head()"
   ]
  },
  {
   "cell_type": "markdown",
   "metadata": {},
   "source": [
    "## play around with hyper_annot_data"
   ]
  },
  {
   "cell_type": "code",
   "execution_count": 8,
   "metadata": {},
   "outputs": [
    {
     "data": {
      "text/html": [
       "<div>\n",
       "<style scoped>\n",
       "    .dataframe tbody tr th:only-of-type {\n",
       "        vertical-align: middle;\n",
       "    }\n",
       "\n",
       "    .dataframe tbody tr th {\n",
       "        vertical-align: top;\n",
       "    }\n",
       "\n",
       "    .dataframe thead th {\n",
       "        text-align: right;\n",
       "    }\n",
       "</style>\n",
       "<table border=\"1\" class=\"dataframe\">\n",
       "  <thead>\n",
       "    <tr style=\"text-align: right;\">\n",
       "      <th></th>\n",
       "      <th>lemma</th>\n",
       "      <th>c1</th>\n",
       "      <th>c2</th>\n",
       "      <th>statement</th>\n",
       "      <th>response</th>\n",
       "    </tr>\n",
       "  </thead>\n",
       "  <tbody>\n",
       "    <tr>\n",
       "      <th>0</th>\n",
       "      <td>一些</td>\n",
       "      <td>一</td>\n",
       "      <td>些</td>\n",
       "      <td>一些 是一種 些</td>\n",
       "      <td>0</td>\n",
       "    </tr>\n",
       "    <tr>\n",
       "      <th>1</th>\n",
       "      <td>一半</td>\n",
       "      <td>一</td>\n",
       "      <td>半</td>\n",
       "      <td>一半 是一種 半</td>\n",
       "      <td>0</td>\n",
       "    </tr>\n",
       "    <tr>\n",
       "      <th>2</th>\n",
       "      <td>一如</td>\n",
       "      <td>一</td>\n",
       "      <td>如</td>\n",
       "      <td>一如 是一種 如</td>\n",
       "      <td>0</td>\n",
       "    </tr>\n",
       "    <tr>\n",
       "      <th>3</th>\n",
       "      <td>一定</td>\n",
       "      <td>一</td>\n",
       "      <td>定</td>\n",
       "      <td>一定 是一種 定</td>\n",
       "      <td>1</td>\n",
       "    </tr>\n",
       "    <tr>\n",
       "      <th>4</th>\n",
       "      <td>一律</td>\n",
       "      <td>一</td>\n",
       "      <td>律</td>\n",
       "      <td>一律 是一種 律</td>\n",
       "      <td>0</td>\n",
       "    </tr>\n",
       "  </tbody>\n",
       "</table>\n",
       "</div>"
      ],
      "text/plain": [
       "  lemma c1 c2 statement  response\n",
       "0    一些  一  些  一些 是一種 些         0\n",
       "1    一半  一  半  一半 是一種 半         0\n",
       "2    一如  一  如  一如 是一種 如         0\n",
       "3    一定  一  定  一定 是一種 定         1\n",
       "4    一律  一  律  一律 是一種 律         0"
      ]
     },
     "execution_count": 8,
     "metadata": {},
     "output_type": "execute_result"
    }
   ],
   "source": [
    "hyper_annot_data.head()"
   ]
  },
  {
   "cell_type": "code",
   "execution_count": 9,
   "metadata": {},
   "outputs": [],
   "source": [
    "def group_cx_data(frame, cidx):\n",
    "    cx_frame = frame[[cidx, \"response\"]] \\\n",
    "                    .groupby([cidx]).agg(['count', 'mean'])\n",
    "    cx_frame.columns = cx_frame.columns.droplevel(0)\n",
    "    cx_frame.sort_values([\"count\", \"mean\"], ascending=False, inplace=True)    \n",
    "    cx_frame.rename_axis(\"charac\", inplace=True)\n",
    "    return cx_frame\n",
    "hyper_c1_data = group_cx_data(hyper_annot_data, \"c1\")\n",
    "hyper_c2_data = group_cx_data(hyper_annot_data, \"c2\")"
   ]
  },
  {
   "cell_type": "code",
   "execution_count": 10,
   "metadata": {},
   "outputs": [],
   "source": [
    "hyper_c1_data.head()\n",
    "hyper_c2_data.head()\n",
    "char_data = hyper_c1_data.merge(hyper_c2_data, on=\"charac\", suffixes=(\"_c1\", \"_c2\"))"
   ]
  },
  {
   "cell_type": "code",
   "execution_count": 11,
   "metadata": {},
   "outputs": [
    {
     "data": {
      "text/plain": [
       "<matplotlib.axes._subplots.AxesSubplot at 0x1dc916b0390>"
      ]
     },
     "execution_count": 11,
     "metadata": {},
     "output_type": "execute_result"
    },
    {
     "data": {
      "image/png": "[encoded data removed]",
      "text/plain": [
       "<Figure size 720x720 with 3 Axes>"
      ]
     },
     "metadata": {
      "needs_background": "light"
     },
     "output_type": "display_data"
    }
   ],
   "source": [
    "plt.figure(figsize=(10,10))\n",
    "ax1 = plt.subplot2grid((2,2), (0,0), colspan=2)\n",
    "ax1.set_aspect('equal')\n",
    "char_data.plot(\"count_c1\", \"count_c2\", 'scatter', ax=ax1)\n",
    "ax2 = plt.subplot2grid((2,2), (1,0))\n",
    "char_data.plot(\"count_c1\", \"mean_c1\", 'scatter', ax=ax2)\n",
    "ax3 = plt.subplot2grid((2,2), (1,1))\n",
    "char_data.plot(\"count_c2\", \"mean_c2\", 'scatter', ax=ax3)"
   ]
  },
  {
   "cell_type": "markdown",
   "metadata": {},
   "source": [
    "# Sense Embed"
   ]
  },
  {
   "cell_type": "markdown",
   "metadata": {},
   "source": [
    "## Eye-balling incoming lemmas"
   ]
  },
  {
   "cell_type": "code",
   "execution_count": 12,
   "metadata": {},
   "outputs": [],
   "source": [
    "all_lemmas = set(hyper_annot_data.lemma.tolist()) \\\n",
    "                .union(hyper_annot_data.c1.tolist()) \\\n",
    "                .union(hyper_annot_data.c2.tolist())"
   ]
  },
  {
   "cell_type": "code",
   "execution_count": 13,
   "metadata": {},
   "outputs": [],
   "source": [
    "cwn_senses = [CwnSense(nid, cwn) for nid, ndata in cwn.V.items() if ndata[\"node_type\"] == \"sense\"]"
   ]
  },
  {
   "cell_type": "code",
   "execution_count": 14,
   "metadata": {},
   "outputs": [
    {
     "data": {
      "text/plain": [
       "28827"
      ]
     },
     "execution_count": 14,
     "metadata": {},
     "output_type": "execute_result"
    }
   ],
   "source": [
    "len(cwn_senses)"
   ]
  },
  {
   "cell_type": "code",
   "execution_count": 15,
   "metadata": {},
   "outputs": [],
   "source": [
    "all_senses = []\n",
    "for sense_x in cwn_senses:\n",
    "    if any([lem_x.lemma in all_lemmas for lem_x in sense_x.lemmas]):\n",
    "        all_senses.append(sense_x)\n",
    "all_examples = [len(x.all_examples()) for x in all_senses]"
   ]
  },
  {
   "cell_type": "code",
   "execution_count": 16,
   "metadata": {},
   "outputs": [
    {
     "name": "stdout",
     "output_type": "stream",
     "text": [
      "total lemmas: 2897\n",
      "two-character lemmas: 1815\n",
      "one-character lemmas: 1082\n",
      "senses in lemmas: 11521\n",
      "examples in lemmas: 37976\n"
     ]
    }
   ],
   "source": [
    "# a brief summary of all_lemmas\n",
    "print(\"total lemmas: {}\".format(len(all_lemmas)))\n",
    "print(\"two-character lemmas: {}\".format(sum([1 for x in all_lemmas if len(x)==2])))\n",
    "print(\"one-character lemmas: {}\".format(sum([1 for x in all_lemmas if len(x)==1])))\n",
    "print(\"senses in lemmas: {}\".format(len(all_senses)))\n",
    "print(\"examples in lemmas: {}\".format(sum(all_examples)))"
   ]
  },
  {
   "cell_type": "code",
   "execution_count": 17,
   "metadata": {},
   "outputs": [
    {
     "name": "stdout",
     "output_type": "stream",
     "text": [
      "['悲', '預報', '父', '到案', '予', '箱', '奇怪', '自大', '筆者', '響', '惹到', '坐車', '環', '延期', '弄', '較', '授予', '減少', '官員', '國內', '孟子', '友好', '錯過', '捕捉', '資源', '電路', '交代', '越戰', '樣', '敘', '猛烈', '批', '毀容', '妳', '李', '析', '脈動', '不宜', '蔚為', '珍惜', '水準', '妥善', '創意', '得到', '適用', '好多', '些', '展開', '進入', '金錢', '為傲', '彈', '和聲', '膝', '浪', '自我', '睡', '歐洲', '大學', '告', '斷層', '蓋', '察', '皮包', '修', '不惜', '走到', '作戰', '慢', '持續', '正常', '金額', '卸', '多', '討論', '呼籲', '預計', '給付', '即可', '實況', '捐贈', '它', '不行', '苦', '指定', '驚人', '預', '弟', '驗尿', '院', '暫時', '相會', '所有', '際', '潮濕', '恩', '最多', '蒙古', '虐', '妾身', '工作', '國寶', '行禮', '廢物', '聽命', '睡覺', '否', '急速', '良好', '口角', '初', '川', '暖季', '覺', '楚', '傲', '麗', '致敬', '慣', '不停', '愉快', '華', '代為', '稍後', '癮', '乘坐', '齡', '麥', '罪', '實際', '妻子', '點燃', '比照', '趣', '有名', '產', '交給', '殘', '實是', '德', '固定', '降', '送出', '存有', '意欲', '名家', '順', '也似', '包容', '假裝', '喪失', '以', '單', '動詞', '筆觸', '照辦', '勒索', '其二', '吾', '演化', '義', '遠大', '兩', '大早', '涉及', '發掘', '多少', '綁', '播種', '定型', '同仁', '國民', '分析', '個人', '進去', '許可', '保持', '標', '伸手', '減低', '呼', '婚', '群', '時', '由', '黏', '許多', '觀', '泡', '過分', '欣', '燃燒', '政見', '送', '一旁', '狹義', '那邊', '估', '臣', '家', '園', '任', '組', '處', '獲', '棄', '申', '門口', '為妙', '書', '自身', '壁', '懼', '保有', '家鄉', '性', '深入', '喜悅', '交', '定', '可惡', '補給', '財政', '連接', '毋寧', '定律', '秦', '淡江', '校園', '全', '作為', '以內', '誘人', '造勢', '急', '動盪', '忍心', '朋', '好好', '信賴', '束', '致謝', '可喜', '手勢', '先行', '民主', '黏附', '藻', '適', '彩色', '竟是', '蓮', '同學', '尖', '兒童', '心酸', '勤前', '畢', '盾', '忽視', '康', '人', '你', '火', '參', '仔細', '妻', '移動', '剛剛', '近代', '好發', '詞典', '完全', '憂心', '結論', '涼', '可', '附贈', '不等', '不良', '華航', '主治', '蘭花', '見', '吸', '敬', '賴', '接任', '摸', '兔子', '廣大', '身後', '反省', '外套', '浸', '狀', '縣', '匙', '步', '來自', '樹林', '凍', '過來', '什', '他們', '防範', '共識', '財務', '冰', '劇', '疏', '之內']\n"
     ]
    }
   ],
   "source": [
    "# print a 10% sample of all_lemmas, just for inspection\n",
    "import random\n",
    "print([x for x in all_lemmas if random.random() < 0.1])"
   ]
  },
  {
   "cell_type": "markdown",
   "metadata": {},
   "source": [
    "## compute sense-embedding"
   ]
  },
  {
   "cell_type": "code",
   "execution_count": 18,
   "metadata": {},
   "outputs": [],
   "source": [
    "bert = BertEmbeddings('bert-base-chinese', layers='-1,-2,-3,-4', pooling_operation='mean')"
   ]
  },
  {
   "cell_type": "code",
   "execution_count": 19,
   "metadata": {},
   "outputs": [],
   "source": [
    "sense_embed = {}"
   ]
  },
  {
   "cell_type": "code",
   "execution_count": 20,
   "metadata": {},
   "outputs": [],
   "source": [
    "# load sense_embed cache\n",
    "SENSE_EMBED_PATH = \"../data/sense_embed.pkl\"\n",
    "if os.path.exists(SENSE_EMBED_PATH):\n",
    "    with open(SENSE_EMBED_PATH, \"rb\") as fin:\n",
    "        sense_embed = pickle.load(fin)\n",
    "    RUN_EMBED = False\n",
    "else:\n",
    "    print(\"Cannot find \", SENSE_EMBED_PATH)\n",
    "    RUN_EMBED = True"
   ]
  },
  {
   "cell_type": "code",
   "execution_count": null,
   "metadata": {},
   "outputs": [],
   "source": [
    "# this block took ~1 hour in an i7 desktop, resulting pickle is around 1.6G\n",
    "if RUN_EMBED:\n",
    "    counter = 0\n",
    "\n",
    "    for sense_x in tqdm(all_senses):\n",
    "        examples = sense_x.all_examples()\n",
    "        for ex_i, ex_x in enumerate(examples):\n",
    "            examples[ex_i] = ex_x.replace(\"〈\", \"<\").replace(\"〉\", \">\")\n",
    "        if not examples:\n",
    "            print(f\"skipping {sense_x} with no examples\")\n",
    "            continue\n",
    "        try:\n",
    "            sense_data = utils.compute_sense_data({sense_x.id: examples}, bert)\n",
    "            sense_embed[sense_x.id] = sense_data\n",
    "        except Exception as ex:\n",
    "            print(f\"[{sense_x}]: {ex}\")\n",
    "\n",
    "        if counter % 1000 == 0:\n",
    "            with open(SENSE_EMBED_PATH, \"wb\") as fout:\n",
    "                pickle.dump(sense_embed, fout)\n",
    "        counter += 1\n",
    "\n",
    "    with open(SENSE_EMBED_PATH, \"wb\") as fout:\n",
    "        pickle.dump(sense_embed, fout)"
   ]
  },
  {
   "cell_type": "code",
   "execution_count": null,
   "metadata": {},
   "outputs": [],
   "source": [
    "# resulting sense embed object, 7 embeddings are failed to construct embeddings, due to no valid examples"
   ]
  },
  {
   "cell_type": "code",
   "execution_count": 21,
   "metadata": {},
   "outputs": [
    {
     "data": {
      "text/plain": [
       "11514"
      ]
     },
     "execution_count": 21,
     "metadata": {},
     "output_type": "execute_result"
    }
   ],
   "source": [
    "len(sense_embed)"
   ]
  },
  {
   "cell_type": "markdown",
   "metadata": {},
   "source": [
    "# Sense simulation study"
   ]
  },
  {
   "cell_type": "code",
   "execution_count": 22,
   "metadata": {},
   "outputs": [],
   "source": [
    "from GWA2019 import make_sense_utils as senseutils"
   ]
  },
  {
   "cell_type": "code",
   "execution_count": 29,
   "metadata": {},
   "outputs": [],
   "source": [
    "PERM_SIMULATION_PATH = \"../data/gwa2019_simulation_results.pkl\"\n",
    "perm_simulations = {}\n",
    "try:\n",
    "    with open(PERM_SIMULATION_PATH, \"rb\") as fin:\n",
    "        perm_simulations = pickle.load(fin)\n",
    "        RUN_PERM = False\n",
    "except Exception as ex:\n",
    "    print(ex)\n",
    "    RUN_PERM = True"
   ]
  },
  {
   "cell_type": "code",
   "execution_count": 51,
   "metadata": {},
   "outputs": [
    {
     "data": {
      "application/vnd.jupyter.widget-view+json": {
       "model_id": "7c35ca2c7cf54faf8317926176e65129",
       "version_major": 2,
       "version_minor": 0
      },
      "text/plain": [
       "HBox(children=(IntProgress(value=0, max=2897), HTML(value='')))"
      ]
     },
     "metadata": {},
     "output_type": "display_data"
    },
    {
     "name": "stdout",
     "output_type": "stream",
     "text": [
      "[憂愁]: expected a non-empty list of Tensors\n",
      "[憂悶]: expected a non-empty list of Tensors\n",
      "\n"
     ]
    }
   ],
   "source": [
    "# this block took ~2minute in a i7 desktop\n",
    "if RUN_PERM:\n",
    "    for lemma_x in tqdm(all_lemmas):\n",
    "        try:\n",
    "            perm_result = senseutils.run_simulation(lemma_x, cwn, sense_embed)\n",
    "            perm_simulations[lemma_x] = perm_result\n",
    "        except Exception as ex:\n",
    "            print(f\"[{lemma_x}]: {ex}\")\n",
    "\n",
    "    with open(PERM_SIMULATION_PATH, \"wb\") as fout:\n",
    "        pickle.dump(perm_simulations, fout)"
   ]
  },
  {
   "cell_type": "markdown",
   "metadata": {},
   "source": [
    "### number of lemmas that only have a single sense\n",
    "therefore they cannot compute a valid F-statistics"
   ]
  },
  {
   "cell_type": "code",
   "execution_count": 63,
   "metadata": {},
   "outputs": [
    {
     "name": "stdout",
     "output_type": "stream",
     "text": [
      "830\n"
     ]
    }
   ],
   "source": [
    "single_sense_stat = [x for _, x in perm_simulations.items() if x.senses.stat is np.nan]\n",
    "print(len(single_sense_stat))"
   ]
  },
  {
   "cell_type": "markdown",
   "metadata": {},
   "source": [
    "### histogram"
   ]
  },
  {
   "cell_type": "code",
   "execution_count": 72,
   "metadata": {},
   "outputs": [],
   "source": [
    "sense_pval = []\n",
    "perm_pval = []\n",
    "rand_pval = []\n",
    "for lemma_x, sim_x in perm_simulations.items():\n",
    "    if sim_x.senses.stat is np.nan:\n",
    "        continue\n",
    "    sense_pval.append(sim_x.senses.pval)\n",
    "    perm_pval.append(sim_x.permutation.pval)\n",
    "    rand_pval.append(sim_x.random.pval)"
   ]
  },
  {
   "cell_type": "code",
   "execution_count": 91,
   "metadata": {},
   "outputs": [
    {
     "data": {
      "text/plain": [
       "array([0.00240169, 0.35021109])"
      ]
     },
     "execution_count": 91,
     "metadata": {},
     "output_type": "execute_result"
    }
   ],
   "source": [
    "np.quantile(sense_pval, [.025, .975])"
   ]
  },
  {
   "cell_type": "code",
   "execution_count": 98,
   "metadata": {},
   "outputs": [
    {
     "name": "stdout",
     "output_type": "stream",
     "text": [
      "M = 0.14, SD = 0.10, Q[.025]=0.0024, Q[.975]=0.3502\n",
      "M = 0.42, SD = 0.09, Q[.025]=0.2285, Q[.975]=0.5780\n",
      "M = 0.41, SD = 0.05, Q[.025]=0.3200, Q[.975]=0.4814\n"
     ]
    }
   ],
   "source": [
    "def report_stat_pval(pval_vec):\n",
    "    qs = np.quantile(pval_vec, [.025, .975])\n",
    "    print(f\"M = {np.mean(pval_vec):.2f}, SD = {np.std(pval_vec):.2f}, Q[.025]={qs[0]:.4f}, Q[.975]={qs[1]:.4f}\")\n",
    "report_stat_pval(sense_pval)\n",
    "report_stat_pval(perm_pval)\n",
    "report_stat_pval(rand_pval)"
   ]
  },
  {
   "cell_type": "markdown",
   "metadata": {},
   "source": [
    "### t-test between original sense and permutations"
   ]
  },
  {
   "cell_type": "markdown",
   "metadata": {},
   "source": [
    "the t-test compares the means under sense and permutation condition. Although the distribution of sense condition is not gaussian, but the mean of the distribution should be from a normal sampling distribution of sample mean, according to central limit theorem. Likewise, the mean from permutation condition should also comes from a gaussian distribution. A more conservative independent t-test is used here, although each lemma go through both sense condition and permutation condition. The overall effect is highly significant, which may be the results from the large effect, and large degree of freedom."
   ]
  },
  {
   "cell_type": "code",
   "execution_count": 103,
   "metadata": {},
   "outputs": [
    {
     "name": "stdout",
     "output_type": "stream",
     "text": [
      "t(4128) = -93.63, p < 0.0000\n"
     ]
    }
   ],
   "source": [
    "from scipy.stats import ttest_ind\n",
    "tstat = ttest_ind(sense_pval, perm_pval)\n",
    "df = (len(sense_pval)-1)*2\n",
    "print(f\"t({df}) = {tstat.statistic:.2f}, p < {tstat.pvalue:.4f}\")"
   ]
  },
  {
   "cell_type": "code",
   "execution_count": 87,
   "metadata": {},
   "outputs": [
    {
     "data": {
      "text/plain": [
       "(-0.1, 0.8)"
      ]
     },
     "execution_count": 87,
     "metadata": {},
     "output_type": "execute_result"
    },
    {
     "data": {
      "image/png": "[encoded data removed]",
      "text/plain": [
       "<Figure size 720x480 with 1 Axes>"
      ]
     },
     "metadata": {
      "needs_background": "light"
     },
     "output_type": "display_data"
    }
   ],
   "source": [
    "plt.figure(figsize=(6,4), dpi=120)\n",
    "sns.distplot(sense_pval, hist=False, kde=True, kde_kws={'shade': True}, label=\"Senses\")\n",
    "sns.distplot(perm_pval, hist=False, kde=True, kde_kws={'shade': True}, label=\"Permutations\")\n",
    "sns.distplot(rand_pval, hist=False, kde=True, kde_kws={'shade': True}, label=\"Random\")\n",
    "plt.legend(title='Conditions')\n",
    "plt.title(\"Density plot of different conditions\")\n",
    "plt.ylabel('density')\n",
    "plt.xlabel('pvalue')\n",
    "plt.xlim(-0.1,0.8)"
   ]
  },
  {
   "cell_type": "markdown",
   "metadata": {},
   "source": [
    "# Link Senses"
   ]
  },
  {
   "cell_type": "code",
   "execution_count": 104,
   "metadata": {},
   "outputs": [
    {
     "data": {
      "text/html": [
       "<div>\n",
       "<style scoped>\n",
       "    .dataframe tbody tr th:only-of-type {\n",
       "        vertical-align: middle;\n",
       "    }\n",
       "\n",
       "    .dataframe tbody tr th {\n",
       "        vertical-align: top;\n",
       "    }\n",
       "\n",
       "    .dataframe thead th {\n",
       "        text-align: right;\n",
       "    }\n",
       "</style>\n",
       "<table border=\"1\" class=\"dataframe\">\n",
       "  <thead>\n",
       "    <tr style=\"text-align: right;\">\n",
       "      <th></th>\n",
       "      <th>lemma</th>\n",
       "      <th>c1</th>\n",
       "      <th>c2</th>\n",
       "      <th>statement</th>\n",
       "      <th>response</th>\n",
       "    </tr>\n",
       "  </thead>\n",
       "  <tbody>\n",
       "    <tr>\n",
       "      <th>0</th>\n",
       "      <td>一些</td>\n",
       "      <td>一</td>\n",
       "      <td>些</td>\n",
       "      <td>一些 是一種 些</td>\n",
       "      <td>0</td>\n",
       "    </tr>\n",
       "    <tr>\n",
       "      <th>1</th>\n",
       "      <td>一半</td>\n",
       "      <td>一</td>\n",
       "      <td>半</td>\n",
       "      <td>一半 是一種 半</td>\n",
       "      <td>0</td>\n",
       "    </tr>\n",
       "    <tr>\n",
       "      <th>2</th>\n",
       "      <td>一如</td>\n",
       "      <td>一</td>\n",
       "      <td>如</td>\n",
       "      <td>一如 是一種 如</td>\n",
       "      <td>0</td>\n",
       "    </tr>\n",
       "    <tr>\n",
       "      <th>3</th>\n",
       "      <td>一定</td>\n",
       "      <td>一</td>\n",
       "      <td>定</td>\n",
       "      <td>一定 是一種 定</td>\n",
       "      <td>1</td>\n",
       "    </tr>\n",
       "    <tr>\n",
       "      <th>4</th>\n",
       "      <td>一律</td>\n",
       "      <td>一</td>\n",
       "      <td>律</td>\n",
       "      <td>一律 是一種 律</td>\n",
       "      <td>0</td>\n",
       "    </tr>\n",
       "  </tbody>\n",
       "</table>\n",
       "</div>"
      ],
      "text/plain": [
       "  lemma c1 c2 statement  response\n",
       "0    一些  一  些  一些 是一種 些         0\n",
       "1    一半  一  半  一半 是一種 半         0\n",
       "2    一如  一  如  一如 是一種 如         0\n",
       "3    一定  一  定  一定 是一種 定         1\n",
       "4    一律  一  律  一律 是一種 律         0"
      ]
     },
     "execution_count": 104,
     "metadata": {},
     "output_type": "execute_result"
    }
   ],
   "source": [
    "hyper_annot_data.head()"
   ]
  },
  {
   "cell_type": "code",
   "execution_count": 113,
   "metadata": {},
   "outputs": [
    {
     "data": {
      "application/vnd.jupyter.widget-view+json": {
       "model_id": "0cd596155d764959a103d6c2923cc54f",
       "version_major": 2,
       "version_minor": 0
      },
      "text/plain": [
       "HBox(children=(IntProgress(value=1, bar_style='info', max=1), HTML(value='')))"
      ]
     },
     "metadata": {},
     "output_type": "display_data"
    },
    {
     "name": "stdout",
     "output_type": "stream",
     "text": [
      "[憂悶]: expected a non-empty list of Tensors\n",
      "[憂愁]: expected a non-empty list of Tensors\n"
     ]
    }
   ],
   "source": [
    "# this block took ~70 seconds in a i7-desktop\n",
    "sense_link_data = []\n",
    "for idx, row in tqdm(hyper_annot_data.iterrows()):\n",
    "    try:\n",
    "        links = senseutils.link_senses(row.lemma, row.c2, cwn, sense_embed, n=10)\n",
    "        (best_1, best_2), score = links[0]        \n",
    "        sense_link_data.append((row.lemma, best_1.id, best_1.definition, best_2.id, best_2.definition))    \n",
    "    except Exception as ex:\n",
    "        print(f\"[{row.lemma}]: {ex}\")"
   ]
  },
  {
   "cell_type": "code",
   "execution_count": 126,
   "metadata": {},
   "outputs": [],
   "source": [
    "sense_link_frame = pd.DataFrame.from_records(sense_link_data, \n",
    "                columns=[\"lemma\", \"cwn_id_1\", \"sense_def_1\", \"cwn_id_2\", \"sense_def_2\"])"
   ]
  },
  {
   "cell_type": "code",
   "execution_count": 127,
   "metadata": {},
   "outputs": [],
   "source": [
    "sense_link_frame.set_index(\"lemma\", inplace=True)\n",
    "base_frame = hyper_annot_data.set_index(\"lemma\")"
   ]
  },
  {
   "cell_type": "code",
   "execution_count": 134,
   "metadata": {},
   "outputs": [],
   "source": [
    "sense_frame_merged = base_frame.merge(sense_link_frame, left_index=True, right_index=True)\n",
    "sense_frame_merged.to_csv(\"../data/sense_frame_merged.csv\")"
   ]
  },
  {
   "cell_type": "code",
   "execution_count": 135,
   "metadata": {},
   "outputs": [
    {
     "data": {
      "text/html": [
       "<div>\n",
       "<style scoped>\n",
       "    .dataframe tbody tr th:only-of-type {\n",
       "        vertical-align: middle;\n",
       "    }\n",
       "\n",
       "    .dataframe tbody tr th {\n",
       "        vertical-align: top;\n",
       "    }\n",
       "\n",
       "    .dataframe thead th {\n",
       "        text-align: right;\n",
       "    }\n",
       "</style>\n",
       "<table border=\"1\" class=\"dataframe\">\n",
       "  <thead>\n",
       "    <tr style=\"text-align: right;\">\n",
       "      <th></th>\n",
       "      <th>c1</th>\n",
       "      <th>c2</th>\n",
       "      <th>statement</th>\n",
       "      <th>response</th>\n",
       "      <th>cwn_id_1</th>\n",
       "      <th>sense_def_1</th>\n",
       "      <th>cwn_id_2</th>\n",
       "      <th>sense_def_2</th>\n",
       "    </tr>\n",
       "    <tr>\n",
       "      <th>lemma</th>\n",
       "      <th></th>\n",
       "      <th></th>\n",
       "      <th></th>\n",
       "      <th></th>\n",
       "      <th></th>\n",
       "      <th></th>\n",
       "      <th></th>\n",
       "      <th></th>\n",
       "    </tr>\n",
       "  </thead>\n",
       "  <tbody>\n",
       "    <tr>\n",
       "      <th>一些</th>\n",
       "      <td>一</td>\n",
       "      <td>些</td>\n",
       "      <td>一些 是一種 些</td>\n",
       "      <td>0</td>\n",
       "      <td>05052702</td>\n",
       "      <td>表程度輕微，常接在形容詞之後。</td>\n",
       "      <td>04045802</td>\n",
       "      <td>表程度輕微，常接在形容詞之後。</td>\n",
       "    </tr>\n",
       "    <tr>\n",
       "      <th>一半</th>\n",
       "      <td>一</td>\n",
       "      <td>半</td>\n",
       "      <td>一半 是一種 半</td>\n",
       "      <td>0</td>\n",
       "      <td>03048901</td>\n",
       "      <td>二分之一。</td>\n",
       "      <td>04081901</td>\n",
       "      <td>整體的二分之一。</td>\n",
       "    </tr>\n",
       "    <tr>\n",
       "      <th>一如</th>\n",
       "      <td>一</td>\n",
       "      <td>如</td>\n",
       "      <td>一如 是一種 如</td>\n",
       "      <td>0</td>\n",
       "      <td>03049701</td>\n",
       "      <td>引介與前述事物有高相似度的後述事物作為譬喻。</td>\n",
       "      <td>03036505</td>\n",
       "      <td>表譬喻事件情況。</td>\n",
       "    </tr>\n",
       "    <tr>\n",
       "      <th>一定</th>\n",
       "      <td>一</td>\n",
       "      <td>定</td>\n",
       "      <td>一定 是一種 定</td>\n",
       "      <td>1</td>\n",
       "      <td>05052501</td>\n",
       "      <td>表對推論的肯定，沒有例外。</td>\n",
       "      <td>09254101</td>\n",
       "      <td>表對推論的肯定，沒有例外。</td>\n",
       "    </tr>\n",
       "    <tr>\n",
       "      <th>一律</th>\n",
       "      <td>一</td>\n",
       "      <td>律</td>\n",
       "      <td>一律 是一種 律</td>\n",
       "      <td>0</td>\n",
       "      <td>04032901</td>\n",
       "      <td>表後述的條件適用全體，沒有例外。</td>\n",
       "      <td>09047003</td>\n",
       "      <td>由立法機關制定，有強制效力的行為規範。</td>\n",
       "    </tr>\n",
       "  </tbody>\n",
       "</table>\n",
       "</div>"
      ],
      "text/plain": [
       "      c1 c2 statement  response  cwn_id_1             sense_def_1  cwn_id_2  \\\n",
       "lemma                                                                         \n",
       "一些     一  些  一些 是一種 些         0  05052702         表程度輕微，常接在形容詞之後。  04045802   \n",
       "一半     一  半  一半 是一種 半         0  03048901                   二分之一。  04081901   \n",
       "一如     一  如  一如 是一種 如         0  03049701  引介與前述事物有高相似度的後述事物作為譬喻。  03036505   \n",
       "一定     一  定  一定 是一種 定         1  05052501           表對推論的肯定，沒有例外。  09254101   \n",
       "一律     一  律  一律 是一種 律         0  04032901        表後述的條件適用全體，沒有例外。  09047003   \n",
       "\n",
       "               sense_def_2  \n",
       "lemma                       \n",
       "一些         表程度輕微，常接在形容詞之後。  \n",
       "一半                整體的二分之一。  \n",
       "一如                表譬喻事件情況。  \n",
       "一定           表對推論的肯定，沒有例外。  \n",
       "一律     由立法機關制定，有強制效力的行為規範。  "
      ]
     },
     "execution_count": 135,
     "metadata": {},
     "output_type": "execute_result"
    }
   ],
   "source": [
    "sense_frame.head()"
   ]
  },
  {
   "cell_type": "code",
   "execution_count": null,
   "metadata": {},
   "outputs": [],
   "source": []
  }
 ],
 "metadata": {
  "kernelspec": {
   "display_name": "Python 3",
   "language": "python",
   "name": "python3"
  },
  "language_info": {
   "codemirror_mode": {
    "name": "ipython",
    "version": 3
   },
   "file_extension": ".py",
   "mimetype": "text/x-python",
   "name": "python",
   "nbconvert_exporter": "python",
   "pygments_lexer": "ipython3",
   "version": "3.7.2"
  }
 },
 "nbformat": 4,
 "nbformat_minor": 2
}
