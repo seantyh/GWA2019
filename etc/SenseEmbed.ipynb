{
 "cells": [
  {
   "cell_type": "markdown",
   "metadata": {},
   "source": [
    "# Sense Embed"
   ]
  },
  {
   "cell_type": "code",
   "execution_count": 1,
   "metadata": {},
   "outputs": [],
   "source": [
    "%load_ext autoreload\n",
    "%autoreload 2\n",
    "%matplotlib inline"
   ]
  },
  {
   "cell_type": "code",
   "execution_count": 2,
   "metadata": {},
   "outputs": [],
   "source": [
    "import sys, os\n",
    "sys.path.append(\"../\")"
   ]
  },
  {
   "cell_type": "code",
   "execution_count": 3,
   "metadata": {},
   "outputs": [
    {
     "name": "stdout",
     "output_type": "stream",
     "text": [
      "Better speed can be achieved with apex installed from https://www.github.com/nvidia/apex.\n"
     ]
    }
   ],
   "source": [
    "import pickle\n",
    "import pandas as pd\n",
    "import numpy as np\n",
    "import matplotlib.pyplot as plt\n",
    "import seaborn as sns\n",
    "import torch\n",
    "from flair.embeddings import Sentence, BertEmbeddings\n",
    "from tqdm import tqdm_notebook as tqdm"
   ]
  },
  {
   "cell_type": "code",
   "execution_count": 4,
   "metadata": {},
   "outputs": [],
   "source": [
    "from CwnGraph import CwnBase, CwnSense\n",
    "from GWA2019 import cwn_sense_utils as utils"
   ]
  },
  {
   "cell_type": "code",
   "execution_count": 5,
   "metadata": {},
   "outputs": [],
   "source": [
    "cwn = CwnBase()"
   ]
  },
  {
   "cell_type": "code",
   "execution_count": 6,
   "metadata": {},
   "outputs": [],
   "source": [
    "HYPER_ANNOT_DATA_PATH = \"../data/merged_checked.csv\"\n",
    "if not os.path.exists(HYPER_ANNOT_DATA_PATH):\n",
    "    raise FileNotFoundError(HYPER_ANNOT_DATA_PATH, \"not found\")"
   ]
  },
  {
   "cell_type": "code",
   "execution_count": 7,
   "metadata": {},
   "outputs": [
    {
     "data": {
      "text/html": [
       "<div>\n",
       "<style scoped>\n",
       "    .dataframe tbody tr th:only-of-type {\n",
       "        vertical-align: middle;\n",
       "    }\n",
       "\n",
       "    .dataframe tbody tr th {\n",
       "        vertical-align: top;\n",
       "    }\n",
       "\n",
       "    .dataframe thead th {\n",
       "        text-align: right;\n",
       "    }\n",
       "</style>\n",
       "<table border=\"1\" class=\"dataframe\">\n",
       "  <thead>\n",
       "    <tr style=\"text-align: right;\">\n",
       "      <th></th>\n",
       "      <th>lemma</th>\n",
       "      <th>c1</th>\n",
       "      <th>c2</th>\n",
       "      <th>statement</th>\n",
       "      <th>response</th>\n",
       "    </tr>\n",
       "  </thead>\n",
       "  <tbody>\n",
       "    <tr>\n",
       "      <th>0</th>\n",
       "      <td>一些</td>\n",
       "      <td>一</td>\n",
       "      <td>些</td>\n",
       "      <td>一些 是一種 些</td>\n",
       "      <td>0</td>\n",
       "    </tr>\n",
       "    <tr>\n",
       "      <th>1</th>\n",
       "      <td>一半</td>\n",
       "      <td>一</td>\n",
       "      <td>半</td>\n",
       "      <td>一半 是一種 半</td>\n",
       "      <td>0</td>\n",
       "    </tr>\n",
       "    <tr>\n",
       "      <th>2</th>\n",
       "      <td>一如</td>\n",
       "      <td>一</td>\n",
       "      <td>如</td>\n",
       "      <td>一如 是一種 如</td>\n",
       "      <td>0</td>\n",
       "    </tr>\n",
       "    <tr>\n",
       "      <th>3</th>\n",
       "      <td>一定</td>\n",
       "      <td>一</td>\n",
       "      <td>定</td>\n",
       "      <td>一定 是一種 定</td>\n",
       "      <td>1</td>\n",
       "    </tr>\n",
       "    <tr>\n",
       "      <th>4</th>\n",
       "      <td>一律</td>\n",
       "      <td>一</td>\n",
       "      <td>律</td>\n",
       "      <td>一律 是一種 律</td>\n",
       "      <td>0</td>\n",
       "    </tr>\n",
       "  </tbody>\n",
       "</table>\n",
       "</div>"
      ],
      "text/plain": [
       "  lemma c1 c2 statement  response\n",
       "0    一些  一  些  一些 是一種 些         0\n",
       "1    一半  一  半  一半 是一種 半         0\n",
       "2    一如  一  如  一如 是一種 如         0\n",
       "3    一定  一  定  一定 是一種 定         1\n",
       "4    一律  一  律  一律 是一種 律         0"
      ]
     },
     "execution_count": 7,
     "metadata": {},
     "output_type": "execute_result"
    }
   ],
   "source": [
    "hyper_annot_data = pd.read_csv(HYPER_ANNOT_DATA_PATH)\n",
    "hyper_annot_data.head()"
   ]
  },
  {
   "cell_type": "markdown",
   "metadata": {},
   "source": [
    "## play around with hyper_annot_data"
   ]
  },
  {
   "cell_type": "code",
   "execution_count": 8,
   "metadata": {},
   "outputs": [
    {
     "data": {
      "text/html": [
       "<div>\n",
       "<style scoped>\n",
       "    .dataframe tbody tr th:only-of-type {\n",
       "        vertical-align: middle;\n",
       "    }\n",
       "\n",
       "    .dataframe tbody tr th {\n",
       "        vertical-align: top;\n",
       "    }\n",
       "\n",
       "    .dataframe thead th {\n",
       "        text-align: right;\n",
       "    }\n",
       "</style>\n",
       "<table border=\"1\" class=\"dataframe\">\n",
       "  <thead>\n",
       "    <tr style=\"text-align: right;\">\n",
       "      <th></th>\n",
       "      <th>lemma</th>\n",
       "      <th>c1</th>\n",
       "      <th>c2</th>\n",
       "      <th>statement</th>\n",
       "      <th>response</th>\n",
       "    </tr>\n",
       "  </thead>\n",
       "  <tbody>\n",
       "    <tr>\n",
       "      <th>0</th>\n",
       "      <td>一些</td>\n",
       "      <td>一</td>\n",
       "      <td>些</td>\n",
       "      <td>一些 是一種 些</td>\n",
       "      <td>0</td>\n",
       "    </tr>\n",
       "    <tr>\n",
       "      <th>1</th>\n",
       "      <td>一半</td>\n",
       "      <td>一</td>\n",
       "      <td>半</td>\n",
       "      <td>一半 是一種 半</td>\n",
       "      <td>0</td>\n",
       "    </tr>\n",
       "    <tr>\n",
       "      <th>2</th>\n",
       "      <td>一如</td>\n",
       "      <td>一</td>\n",
       "      <td>如</td>\n",
       "      <td>一如 是一種 如</td>\n",
       "      <td>0</td>\n",
       "    </tr>\n",
       "    <tr>\n",
       "      <th>3</th>\n",
       "      <td>一定</td>\n",
       "      <td>一</td>\n",
       "      <td>定</td>\n",
       "      <td>一定 是一種 定</td>\n",
       "      <td>1</td>\n",
       "    </tr>\n",
       "    <tr>\n",
       "      <th>4</th>\n",
       "      <td>一律</td>\n",
       "      <td>一</td>\n",
       "      <td>律</td>\n",
       "      <td>一律 是一種 律</td>\n",
       "      <td>0</td>\n",
       "    </tr>\n",
       "  </tbody>\n",
       "</table>\n",
       "</div>"
      ],
      "text/plain": [
       "  lemma c1 c2 statement  response\n",
       "0    一些  一  些  一些 是一種 些         0\n",
       "1    一半  一  半  一半 是一種 半         0\n",
       "2    一如  一  如  一如 是一種 如         0\n",
       "3    一定  一  定  一定 是一種 定         1\n",
       "4    一律  一  律  一律 是一種 律         0"
      ]
     },
     "execution_count": 8,
     "metadata": {},
     "output_type": "execute_result"
    }
   ],
   "source": [
    "hyper_annot_data.head()"
   ]
  },
  {
   "cell_type": "code",
   "execution_count": 9,
   "metadata": {},
   "outputs": [],
   "source": [
    "def group_cx_data(frame, cidx):\n",
    "    cx_frame = frame[[cidx, \"response\"]] \\\n",
    "                    .groupby([cidx]).agg(['count', 'mean'])\n",
    "    cx_frame.columns = cx_frame.columns.droplevel(0)\n",
    "    cx_frame.sort_values([\"count\", \"mean\"], ascending=False, inplace=True)    \n",
    "    cx_frame.rename_axis(\"charac\", inplace=True)\n",
    "    return cx_frame\n",
    "hyper_c1_data = group_cx_data(hyper_annot_data, \"c1\")\n",
    "hyper_c2_data = group_cx_data(hyper_annot_data, \"c2\")"
   ]
  },
  {
   "cell_type": "code",
   "execution_count": 10,
   "metadata": {},
   "outputs": [],
   "source": [
    "hyper_c1_data.head()\n",
    "hyper_c2_data.head()\n",
    "char_data = hyper_c1_data.merge(hyper_c2_data, on=\"charac\", suffixes=(\"_c1\", \"_c2\"))"
   ]
  },
  {
   "cell_type": "code",
   "execution_count": 14,
   "metadata": {},
   "outputs": [
    {
     "data": {
      "text/html": [
       "<div>\n",
       "<style scoped>\n",
       "    .dataframe tbody tr th:only-of-type {\n",
       "        vertical-align: middle;\n",
       "    }\n",
       "\n",
       "    .dataframe tbody tr th {\n",
       "        vertical-align: top;\n",
       "    }\n",
       "\n",
       "    .dataframe thead th {\n",
       "        text-align: right;\n",
       "    }\n",
       "</style>\n",
       "<table border=\"1\" class=\"dataframe\">\n",
       "  <thead>\n",
       "    <tr style=\"text-align: right;\">\n",
       "      <th></th>\n",
       "      <th>count_c1</th>\n",
       "      <th>mean_c1</th>\n",
       "      <th>count_c2</th>\n",
       "      <th>mean_c2</th>\n",
       "    </tr>\n",
       "    <tr>\n",
       "      <th>charac</th>\n",
       "      <th></th>\n",
       "      <th></th>\n",
       "      <th></th>\n",
       "      <th></th>\n",
       "    </tr>\n",
       "  </thead>\n",
       "  <tbody>\n",
       "    <tr>\n",
       "      <th>大</th>\n",
       "      <td>21</td>\n",
       "      <td>0.523810</td>\n",
       "      <td>8</td>\n",
       "      <td>0.125000</td>\n",
       "    </tr>\n",
       "    <tr>\n",
       "      <th>分</th>\n",
       "      <td>16</td>\n",
       "      <td>0.062500</td>\n",
       "      <td>5</td>\n",
       "      <td>0.400000</td>\n",
       "    </tr>\n",
       "    <tr>\n",
       "      <th>有</th>\n",
       "      <td>15</td>\n",
       "      <td>0.266667</td>\n",
       "      <td>11</td>\n",
       "      <td>0.454545</td>\n",
       "    </tr>\n",
       "    <tr>\n",
       "      <th>人</th>\n",
       "      <td>14</td>\n",
       "      <td>0.428571</td>\n",
       "      <td>25</td>\n",
       "      <td>0.720000</td>\n",
       "    </tr>\n",
       "    <tr>\n",
       "      <th>為</th>\n",
       "      <td>14</td>\n",
       "      <td>0.285714</td>\n",
       "      <td>15</td>\n",
       "      <td>0.266667</td>\n",
       "    </tr>\n",
       "    <tr>\n",
       "      <th>相</th>\n",
       "      <td>12</td>\n",
       "      <td>0.500000</td>\n",
       "      <td>2</td>\n",
       "      <td>0.500000</td>\n",
       "    </tr>\n",
       "    <tr>\n",
       "      <th>發</th>\n",
       "      <td>12</td>\n",
       "      <td>0.416667</td>\n",
       "      <td>6</td>\n",
       "      <td>0.666667</td>\n",
       "    </tr>\n",
       "    <tr>\n",
       "      <th>自</th>\n",
       "      <td>12</td>\n",
       "      <td>0.416667</td>\n",
       "      <td>3</td>\n",
       "      <td>0.333333</td>\n",
       "    </tr>\n",
       "    <tr>\n",
       "      <th>一</th>\n",
       "      <td>12</td>\n",
       "      <td>0.333333</td>\n",
       "      <td>4</td>\n",
       "      <td>0.000000</td>\n",
       "    </tr>\n",
       "    <tr>\n",
       "      <th>過</th>\n",
       "      <td>12</td>\n",
       "      <td>0.166667</td>\n",
       "      <td>6</td>\n",
       "      <td>0.166667</td>\n",
       "    </tr>\n",
       "  </tbody>\n",
       "</table>\n",
       "</div>"
      ],
      "text/plain": [
       "        count_c1   mean_c1  count_c2   mean_c2\n",
       "charac                                        \n",
       "大             21  0.523810         8  0.125000\n",
       "分             16  0.062500         5  0.400000\n",
       "有             15  0.266667        11  0.454545\n",
       "人             14  0.428571        25  0.720000\n",
       "為             14  0.285714        15  0.266667\n",
       "相             12  0.500000         2  0.500000\n",
       "發             12  0.416667         6  0.666667\n",
       "自             12  0.416667         3  0.333333\n",
       "一             12  0.333333         4  0.000000\n",
       "過             12  0.166667         6  0.166667"
      ]
     },
     "execution_count": 14,
     "metadata": {},
     "output_type": "execute_result"
    }
   ],
   "source": [
    "char_data.head(10)"
   ]
  },
  {
   "cell_type": "code",
   "execution_count": 15,
   "metadata": {},
   "outputs": [
    {
     "data": {
      "text/html": [
       "<div>\n",
       "<style scoped>\n",
       "    .dataframe tbody tr th:only-of-type {\n",
       "        vertical-align: middle;\n",
       "    }\n",
       "\n",
       "    .dataframe tbody tr th {\n",
       "        vertical-align: top;\n",
       "    }\n",
       "\n",
       "    .dataframe thead th {\n",
       "        text-align: right;\n",
       "    }\n",
       "</style>\n",
       "<table border=\"1\" class=\"dataframe\">\n",
       "  <thead>\n",
       "    <tr style=\"text-align: right;\">\n",
       "      <th></th>\n",
       "      <th>count_c1</th>\n",
       "      <th>mean_c1</th>\n",
       "      <th>count_c2</th>\n",
       "      <th>mean_c2</th>\n",
       "    </tr>\n",
       "    <tr>\n",
       "      <th>charac</th>\n",
       "      <th></th>\n",
       "      <th></th>\n",
       "      <th></th>\n",
       "      <th></th>\n",
       "    </tr>\n",
       "  </thead>\n",
       "  <tbody>\n",
       "    <tr>\n",
       "      <th>子</th>\n",
       "      <td>3</td>\n",
       "      <td>0.666667</td>\n",
       "      <td>27</td>\n",
       "      <td>0.037037</td>\n",
       "    </tr>\n",
       "    <tr>\n",
       "      <th>人</th>\n",
       "      <td>14</td>\n",
       "      <td>0.428571</td>\n",
       "      <td>25</td>\n",
       "      <td>0.720000</td>\n",
       "    </tr>\n",
       "    <tr>\n",
       "      <th>出</th>\n",
       "      <td>9</td>\n",
       "      <td>0.666667</td>\n",
       "      <td>19</td>\n",
       "      <td>0.210526</td>\n",
       "    </tr>\n",
       "    <tr>\n",
       "      <th>到</th>\n",
       "      <td>2</td>\n",
       "      <td>0.000000</td>\n",
       "      <td>18</td>\n",
       "      <td>0.111111</td>\n",
       "    </tr>\n",
       "    <tr>\n",
       "      <th>生</th>\n",
       "      <td>8</td>\n",
       "      <td>0.375000</td>\n",
       "      <td>16</td>\n",
       "      <td>0.187500</td>\n",
       "    </tr>\n",
       "    <tr>\n",
       "      <th>心</th>\n",
       "      <td>6</td>\n",
       "      <td>0.000000</td>\n",
       "      <td>16</td>\n",
       "      <td>0.125000</td>\n",
       "    </tr>\n",
       "    <tr>\n",
       "      <th>為</th>\n",
       "      <td>14</td>\n",
       "      <td>0.285714</td>\n",
       "      <td>15</td>\n",
       "      <td>0.266667</td>\n",
       "    </tr>\n",
       "    <tr>\n",
       "      <th>得</th>\n",
       "      <td>2</td>\n",
       "      <td>0.000000</td>\n",
       "      <td>15</td>\n",
       "      <td>0.133333</td>\n",
       "    </tr>\n",
       "    <tr>\n",
       "      <th>意</th>\n",
       "      <td>9</td>\n",
       "      <td>0.555556</td>\n",
       "      <td>15</td>\n",
       "      <td>0.066667</td>\n",
       "    </tr>\n",
       "    <tr>\n",
       "      <th>行</th>\n",
       "      <td>4</td>\n",
       "      <td>0.500000</td>\n",
       "      <td>13</td>\n",
       "      <td>0.076923</td>\n",
       "    </tr>\n",
       "  </tbody>\n",
       "</table>\n",
       "</div>"
      ],
      "text/plain": [
       "        count_c1   mean_c1  count_c2   mean_c2\n",
       "charac                                        \n",
       "子              3  0.666667        27  0.037037\n",
       "人             14  0.428571        25  0.720000\n",
       "出              9  0.666667        19  0.210526\n",
       "到              2  0.000000        18  0.111111\n",
       "生              8  0.375000        16  0.187500\n",
       "心              6  0.000000        16  0.125000\n",
       "為             14  0.285714        15  0.266667\n",
       "得              2  0.000000        15  0.133333\n",
       "意              9  0.555556        15  0.066667\n",
       "行              4  0.500000        13  0.076923"
      ]
     },
     "execution_count": 15,
     "metadata": {},
     "output_type": "execute_result"
    }
   ],
   "source": [
    "char_data.sort_values(\"count_c2\", ascending=False).head(10)"
   ]
  },
  {
   "cell_type": "code",
   "execution_count": 16,
   "metadata": {},
   "outputs": [],
   "source": [
    "char_data.to_csv(\"../data/char_data_merged.csv\")"
   ]
  },
  {
   "cell_type": "code",
   "execution_count": 17,
   "metadata": {},
   "outputs": [
    {
     "data": {
      "text/plain": [
       "<matplotlib.axes._subplots.AxesSubplot at 0x2071ce1fe48>"
      ]
     },
     "execution_count": 17,
     "metadata": {},
     "output_type": "execute_result"
    },
    {
     "data": {
      "image/png": "[encoded data removed]",
      "text/plain": [
       "<Figure size 720x720 with 3 Axes>"
      ]
     },
     "metadata": {
      "needs_background": "light"
     },
     "output_type": "display_data"
    }
   ],
   "source": [
    "plt.figure(figsize=(10,10))\n",
    "ax1 = plt.subplot2grid((2,2), (0,0), colspan=2)\n",
    "ax1.set_aspect('equal')\n",
    "char_data.plot(\"count_c1\", \"count_c2\", 'scatter', ax=ax1)\n",
    "ax2 = plt.subplot2grid((2,2), (1,0))\n",
    "char_data.plot(\"count_c1\", \"mean_c1\", 'scatter', ax=ax2)\n",
    "ax3 = plt.subplot2grid((2,2), (1,1))\n",
    "char_data.plot(\"count_c2\", \"mean_c2\", 'scatter', ax=ax3)"
   ]
  },
  {
   "cell_type": "markdown",
   "metadata": {},
   "source": [
    "# Sense Embed"
   ]
  },
  {
   "cell_type": "markdown",
   "metadata": {},
   "source": [
    "## Eye-balling incoming lemmas"
   ]
  },
  {
   "cell_type": "code",
   "execution_count": 18,
   "metadata": {},
   "outputs": [],
   "source": [
    "all_lemmas = set(hyper_annot_data.lemma.tolist()) \\\n",
    "                .union(hyper_annot_data.c1.tolist()) \\\n",
    "                .union(hyper_annot_data.c2.tolist())"
   ]
  },
  {
   "cell_type": "code",
   "execution_count": 19,
   "metadata": {},
   "outputs": [],
   "source": [
    "cwn_senses = [CwnSense(nid, cwn) for nid, ndata in cwn.V.items() if ndata[\"node_type\"] == \"sense\"]"
   ]
  },
  {
   "cell_type": "code",
   "execution_count": 20,
   "metadata": {},
   "outputs": [
    {
     "data": {
      "text/plain": [
       "28827"
      ]
     },
     "execution_count": 20,
     "metadata": {},
     "output_type": "execute_result"
    }
   ],
   "source": [
    "len(cwn_senses)"
   ]
  },
  {
   "cell_type": "code",
   "execution_count": 21,
   "metadata": {},
   "outputs": [],
   "source": [
    "all_senses = []\n",
    "for sense_x in cwn_senses:\n",
    "    if any([lem_x.lemma in all_lemmas for lem_x in sense_x.lemmas]):\n",
    "        all_senses.append(sense_x)\n",
    "all_examples = [len(x.all_examples()) for x in all_senses]"
   ]
  },
  {
   "cell_type": "code",
   "execution_count": 22,
   "metadata": {},
   "outputs": [
    {
     "name": "stdout",
     "output_type": "stream",
     "text": [
      "total lemmas: 2897\n",
      "two-character lemmas: 1815\n",
      "one-character lemmas: 1082\n",
      "senses in lemmas: 11521\n",
      "examples in lemmas: 37976\n"
     ]
    }
   ],
   "source": [
    "# a brief summary of all_lemmas\n",
    "print(\"total lemmas: {}\".format(len(all_lemmas)))\n",
    "print(\"two-character lemmas: {}\".format(sum([1 for x in all_lemmas if len(x)==2])))\n",
    "print(\"one-character lemmas: {}\".format(sum([1 for x in all_lemmas if len(x)==1])))\n",
    "print(\"senses in lemmas: {}\".format(len(all_senses)))\n",
    "print(\"examples in lemmas: {}\".format(sum(all_examples)))"
   ]
  },
  {
   "cell_type": "code",
   "execution_count": 23,
   "metadata": {},
   "outputs": [
    {
     "name": "stdout",
     "output_type": "stream",
     "text": [
      "['頂嘴', '核定', '歡暢', '鳳', '秋', '恐', '這', '遺址', '申訴', '慢慢', '我國', '喜歡', '底', '摸', '女兒', '頒給', '花園', '飯', '掉', '力', '盼', '辦法', '政', '縣', '古典', '整整', '國寶', '沒有', '近', '名氣', '整', '精', '線', '遇', '觸', '弱', '大早', '惡化', '憂悶', '不忠', '他', '美國', '武松', '工會', '析', '優勢', '連線', '便', '搖', '手法', '義', '面積', '累積', '早晨', '鼓勵', '思念', '那邊', '畏懼', '紐', '答覆', '毛', '單純', '懶得', '心醉', '陽', '記過', '廳', '區', '婦女', '別', '申', '觀音', '稱為', '諸', '交', '授予', '生存', '捐出', '古', '指出', '湯匙', '專門', '租', '溪', '遠大', '漂', '叉', '寄給', '可見', '注意', '國小', '簡稱', '從業', '劇', '舊', '開戰', '政大', '角色', '電路', '依賴', '工程', '揮', '聖火', '妙', '反感', '頒獎', '個人', '有志', '載明', '苦', '論', '遊', '推動', '社', '化', '調', '允許', '染色', '碰', '堅持', '協助', '蘭嶼', '演', '官員', '編', '宏', '藥物', '凍原', '鬆', '指', '岸', '解決', '光電', '保守', '分隔', '意外', '苔原', '攤', '筆', '崩解', '相較', '亞', '怨', '脈', '糕點', '發掘', '國防', '定值', '畢業', '兔子', '誘', '本錢', '開花', '聲浪', '休息', '小', '找到', '轟炸', '氣憤', '春', '容易', '賜給', '排行', '爽', '顧客', '烏龜', '肯定', '周', '故意', '滿意', '東南', '火力', '孟', '氣', '來信', '超越', '制', '造勢', '寫給', '找', '電動', '才', '這裏', '鋼琴', '程式', '大半', '叉子', '狀況', '容量', '充滿', '半', '牛', '備', '棍子', '似', '距離', '工廠', '主角', '去除', '民意', '入迷', '半身', '為甚', '口角', '嚇', '皮膚', '所及', '扶', '畢', '客人', '定論', '房子', '如此', '試', '學術', '午', '殘', '意', '也', '定', '恐慌', '喜', '親生', '差', '南', '外', '他們', '擋', '主席', '過後', '採', '夏', '樹林', '呼吸', '較多', '化為', '陷入', '強烈', '大量', '反', '架空', '任意', '施肥', '源', '她們', '領先', '力爭', '驚恐', '弟兄', '水準', '女生', '種', '嘴脣', '身後', '豐富', '錄音', '杯子', '誘發', '吾人', '資', '遷', '確實', '民', '忽', '讚', '伍', '年紀', '拖', '決心', '抖出', '厚', '隔', '雨', '拖延', '障礙', '試試', '協約', '持續', '參', '筆觸', '維繫', '集', '許多', '技', '銀', '油船', '忽略', '唸', '賤', '之後', '程']\n"
     ]
    }
   ],
   "source": [
    "# print a 10% sample of all_lemmas, just for inspection\n",
    "import random\n",
    "print([x for x in all_lemmas if random.random() < 0.1])"
   ]
  },
  {
   "cell_type": "markdown",
   "metadata": {},
   "source": [
    "## compute sense-embedding"
   ]
  },
  {
   "cell_type": "code",
   "execution_count": 24,
   "metadata": {},
   "outputs": [],
   "source": [
    "bert = BertEmbeddings('bert-base-chinese', layers='-1,-2,-3,-4', pooling_operation='mean')"
   ]
  },
  {
   "cell_type": "code",
   "execution_count": 25,
   "metadata": {},
   "outputs": [],
   "source": [
    "sense_embed = {}"
   ]
  },
  {
   "cell_type": "code",
   "execution_count": 26,
   "metadata": {},
   "outputs": [],
   "source": [
    "# load sense_embed cache\n",
    "SENSE_EMBED_PATH = \"../data/sense_embed.pkl\"\n",
    "if os.path.exists(SENSE_EMBED_PATH):\n",
    "    with open(SENSE_EMBED_PATH, \"rb\") as fin:\n",
    "        sense_embed = pickle.load(fin)\n",
    "    RUN_EMBED = False\n",
    "else:\n",
    "    print(\"Cannot find \", SENSE_EMBED_PATH)\n",
    "    RUN_EMBED = True"
   ]
  },
  {
   "cell_type": "code",
   "execution_count": 27,
   "metadata": {},
   "outputs": [],
   "source": [
    "# this block took ~1 hour in an i7 desktop, resulting pickle is around 1.6G\n",
    "if RUN_EMBED:\n",
    "    counter = 0\n",
    "\n",
    "    for sense_x in tqdm(all_senses):\n",
    "        examples = sense_x.all_examples()\n",
    "        for ex_i, ex_x in enumerate(examples):\n",
    "            examples[ex_i] = ex_x.replace(\"〈\", \"<\").replace(\"〉\", \">\")\n",
    "        if not examples:\n",
    "            print(f\"skipping {sense_x} with no examples\")\n",
    "            continue\n",
    "        try:\n",
    "            sense_data = utils.compute_sense_data({sense_x.id: examples}, bert)\n",
    "            sense_embed[sense_x.id] = sense_data\n",
    "        except Exception as ex:\n",
    "            print(f\"[{sense_x}]: {ex}\")\n",
    "\n",
    "        if counter % 1000 == 0:\n",
    "            with open(SENSE_EMBED_PATH, \"wb\") as fout:\n",
    "                pickle.dump(sense_embed, fout)\n",
    "        counter += 1\n",
    "\n",
    "    with open(SENSE_EMBED_PATH, \"wb\") as fout:\n",
    "        pickle.dump(sense_embed, fout)"
   ]
  },
  {
   "cell_type": "code",
   "execution_count": 28,
   "metadata": {},
   "outputs": [],
   "source": [
    "# resulting sense embed object, 7 embeddings are failed to construct embeddings, due to no valid examples"
   ]
  },
  {
   "cell_type": "code",
   "execution_count": 29,
   "metadata": {},
   "outputs": [
    {
     "data": {
      "text/plain": [
       "11514"
      ]
     },
     "execution_count": 29,
     "metadata": {},
     "output_type": "execute_result"
    }
   ],
   "source": [
    "len(sense_embed)"
   ]
  },
  {
   "cell_type": "markdown",
   "metadata": {},
   "source": [
    "# Sense simulation study"
   ]
  },
  {
   "cell_type": "code",
   "execution_count": 30,
   "metadata": {},
   "outputs": [],
   "source": [
    "from GWA2019 import make_sense_utils as senseutils"
   ]
  },
  {
   "cell_type": "code",
   "execution_count": 31,
   "metadata": {},
   "outputs": [],
   "source": [
    "PERM_SIMULATION_PATH = \"../data/gwa2019_simulation_results.pkl\"\n",
    "perm_simulations = {}\n",
    "try:\n",
    "    with open(PERM_SIMULATION_PATH, \"rb\") as fin:\n",
    "        perm_simulations = pickle.load(fin)\n",
    "        RUN_PERM = False\n",
    "except Exception as ex:\n",
    "    print(ex)\n",
    "    RUN_PERM = True"
   ]
  },
  {
   "cell_type": "code",
   "execution_count": 32,
   "metadata": {},
   "outputs": [],
   "source": [
    "# this block took ~2minute in a i7 desktop\n",
    "if RUN_PERM:\n",
    "    for lemma_x in tqdm(all_lemmas):\n",
    "        try:\n",
    "            perm_result = senseutils.run_simulation(lemma_x, cwn, sense_embed)\n",
    "            perm_simulations[lemma_x] = perm_result\n",
    "        except Exception as ex:\n",
    "            print(f\"[{lemma_x}]: {ex}\")\n",
    "\n",
    "    with open(PERM_SIMULATION_PATH, \"wb\") as fout:\n",
    "        pickle.dump(perm_simulations, fout)"
   ]
  },
  {
   "cell_type": "markdown",
   "metadata": {},
   "source": [
    "### number of lemmas that only have a single sense\n",
    "therefore they cannot compute a valid F-statistics"
   ]
  },
  {
   "cell_type": "code",
   "execution_count": 33,
   "metadata": {},
   "outputs": [
    {
     "name": "stdout",
     "output_type": "stream",
     "text": [
      "830\n"
     ]
    }
   ],
   "source": [
    "single_sense_stat = [x for _, x in perm_simulations.items() if np.isnan(x.senses.stat)]\n",
    "print(len(single_sense_stat))"
   ]
  },
  {
   "cell_type": "markdown",
   "metadata": {},
   "source": [
    "### histogram"
   ]
  },
  {
   "cell_type": "code",
   "execution_count": 34,
   "metadata": {},
   "outputs": [],
   "source": [
    "sense_pval = []\n",
    "perm_pval = []\n",
    "rand_pval = []\n",
    "for lemma_x, sim_x in perm_simulations.items():\n",
    "    if np.isnan(sim_x.senses.stat):\n",
    "        continue\n",
    "    sense_pval.append(sim_x.senses.pval)\n",
    "    perm_pval.append(sim_x.permutation.pval)\n",
    "    rand_pval.append(sim_x.random.pval)"
   ]
  },
  {
   "cell_type": "code",
   "execution_count": 35,
   "metadata": {},
   "outputs": [
    {
     "data": {
      "text/plain": [
       "array([0.00240169, 0.35021109])"
      ]
     },
     "execution_count": 35,
     "metadata": {},
     "output_type": "execute_result"
    }
   ],
   "source": [
    "np.quantile(sense_pval, [.025, .975])"
   ]
  },
  {
   "cell_type": "code",
   "execution_count": 36,
   "metadata": {},
   "outputs": [
    {
     "name": "stdout",
     "output_type": "stream",
     "text": [
      "M = 0.14, SD = 0.10, Q[.025]=0.0024, Q[.975]=0.3502\n",
      "M = 0.42, SD = 0.09, Q[.025]=0.2285, Q[.975]=0.5780\n",
      "M = 0.41, SD = 0.05, Q[.025]=0.3200, Q[.975]=0.4814\n"
     ]
    }
   ],
   "source": [
    "def report_stat_pval(pval_vec):\n",
    "    qs = np.quantile(pval_vec, [.025, .975])\n",
    "    print(f\"M = {np.mean(pval_vec):.2f}, SD = {np.std(pval_vec):.2f}, Q[.025]={qs[0]:.4f}, Q[.975]={qs[1]:.4f}\")\n",
    "report_stat_pval(sense_pval)\n",
    "report_stat_pval(perm_pval)\n",
    "report_stat_pval(rand_pval)"
   ]
  },
  {
   "cell_type": "markdown",
   "metadata": {},
   "source": [
    "### t-test between original sense and permutations"
   ]
  },
  {
   "cell_type": "markdown",
   "metadata": {},
   "source": [
    "the t-test compares the means under sense and permutation condition. Although the distribution of sense condition is not gaussian, but the mean of the distribution should be from a normal sampling distribution of sample mean, according to central limit theorem. Likewise, the mean from permutation condition should also comes from a gaussian distribution. A more conservative independent t-test is used here, although each lemma go through both sense condition and permutation condition. The overall effect is highly significant, which may be the results from the large effect, and large degree of freedom."
   ]
  },
  {
   "cell_type": "code",
   "execution_count": 37,
   "metadata": {},
   "outputs": [
    {
     "name": "stdout",
     "output_type": "stream",
     "text": [
      "t(4128) = -93.63, p < 0.0000\n"
     ]
    }
   ],
   "source": [
    "from scipy.stats import ttest_ind\n",
    "tstat = ttest_ind(sense_pval, perm_pval)\n",
    "df = (len(sense_pval)-1)*2\n",
    "print(f\"t({df}) = {tstat.statistic:.2f}, p < {tstat.pvalue:.4f}\")"
   ]
  },
  {
   "cell_type": "code",
   "execution_count": 47,
   "metadata": {},
   "outputs": [
    {
     "data": {
      "text/plain": [
       "(-0.1, 0.8)"
      ]
     },
     "execution_count": 47,
     "metadata": {},
     "output_type": "execute_result"
    },
    {
     "data": {
      "image/png": "[encoded data removed]",
      "text/plain": [
       "<Figure size 720x480 with 1 Axes>"
      ]
     },
     "metadata": {
      "needs_background": "light"
     },
     "output_type": "display_data"
    }
   ],
   "source": [
    "BW = 0.03\n",
    "plt.figure(figsize=(6,4), dpi=120)\n",
    "sns.distplot(sense_pval, hist=False, kde=True, kde_kws={'shade': True, \"bw\": BW}, label=\"Senses\")\n",
    "sns.distplot(perm_pval, hist=False, kde=True, kde_kws={'shade': True, \"bw\": BW}, label=\"Permutations\")\n",
    "sns.distplot(rand_pval, hist=False, kde=True, kde_kws={'shade': True, \"bw\": BW}, label=\"Random\")\n",
    "plt.legend(title='Conditions')\n",
    "plt.title(\"Density plot of different conditions\")\n",
    "plt.ylabel('density')\n",
    "plt.xlabel('pvalue')\n",
    "plt.xlim(-0.1,0.8)"
   ]
  },
  {
   "cell_type": "markdown",
   "metadata": {},
   "source": [
    "# Link Senses"
   ]
  },
  {
   "cell_type": "code",
   "execution_count": 48,
   "metadata": {},
   "outputs": [
    {
     "name": "stdout",
     "output_type": "stream",
     "text": [
      "[Errno 2] No such file or directory: '../data/sense_link_data.pkl'\n"
     ]
    }
   ],
   "source": [
    "SENSE_LINK_PATH = \"../data/sense_link_data.pkl\"\n",
    "sense_link_data = []\n",
    "try:\n",
    "    with open(SENSE_LINK_PATH, \"rb\") as fin:\n",
    "        sense_link_data = pickle.load(fin)\n",
    "    RUN_LINKSENSE = False\n",
    "except Exception as ex:\n",
    "    print(ex)\n",
    "    RUN_LINKSENSE = True"
   ]
  },
  {
   "cell_type": "code",
   "execution_count": 49,
   "metadata": {},
   "outputs": [
    {
     "data": {
      "application/vnd.jupyter.widget-view+json": {
       "model_id": "29410a93c046486980b9edc4904bae0c",
       "version_major": 2,
       "version_minor": 0
      },
      "text/plain": [
       "HBox(children=(IntProgress(value=1, bar_style='info', max=1), HTML(value='')))"
      ]
     },
     "metadata": {},
     "output_type": "display_data"
    },
    {
     "name": "stdout",
     "output_type": "stream",
     "text": [
      "[憂悶]: expected a non-empty list of Tensors\n",
      "[憂愁]: expected a non-empty list of Tensors\n",
      "\n"
     ]
    }
   ],
   "source": [
    "# this block took ~70 seconds in a i7-desktop\n",
    "if RUN_LINKSENSE:\n",
    "    for idx, row in tqdm(hyper_annot_data.iterrows()):\n",
    "        try:\n",
    "            links = senseutils.link_senses(row.lemma, row.c2, cwn, sense_embed, n=10)\n",
    "            (best_1, best_2), score = links[0]        \n",
    "            sense_link_data.append((row.lemma, best_1.id, best_1.definition, best_2.id, best_2.definition))    \n",
    "        except Exception as ex:\n",
    "            print(f\"[{row.lemma}]: {ex}\")\n",
    "    with open(SENSE_LINK_PATH, \"wb\") as fout:\n",
    "        pickle.dump(sense_link_data, fout)"
   ]
  },
  {
   "cell_type": "code",
   "execution_count": 50,
   "metadata": {},
   "outputs": [],
   "source": [
    "sense_link_frame = pd.DataFrame.from_records(sense_link_data, \n",
    "                columns=[\"lemma\", \"cwn_id_1\", \"sense_def_1\", \"cwn_id_2\", \"sense_def_2\"])"
   ]
  },
  {
   "cell_type": "code",
   "execution_count": 51,
   "metadata": {},
   "outputs": [],
   "source": [
    "sense_link_frame.set_index(\"lemma\", inplace=True)\n",
    "base_frame = hyper_annot_data.set_index(\"lemma\")"
   ]
  },
  {
   "cell_type": "code",
   "execution_count": 52,
   "metadata": {},
   "outputs": [],
   "source": [
    "sense_pair_merged = base_frame.merge(sense_link_frame, left_index=True, right_index=True)\n",
    "sense_pair_merged.to_csv(\"../data/sense_pair_merged.csv\")"
   ]
  },
  {
   "cell_type": "code",
   "execution_count": 53,
   "metadata": {},
   "outputs": [
    {
     "data": {
      "text/html": [
       "<div>\n",
       "<style scoped>\n",
       "    .dataframe tbody tr th:only-of-type {\n",
       "        vertical-align: middle;\n",
       "    }\n",
       "\n",
       "    .dataframe tbody tr th {\n",
       "        vertical-align: top;\n",
       "    }\n",
       "\n",
       "    .dataframe thead th {\n",
       "        text-align: right;\n",
       "    }\n",
       "</style>\n",
       "<table border=\"1\" class=\"dataframe\">\n",
       "  <thead>\n",
       "    <tr style=\"text-align: right;\">\n",
       "      <th></th>\n",
       "      <th>c1</th>\n",
       "      <th>c2</th>\n",
       "      <th>statement</th>\n",
       "      <th>response</th>\n",
       "      <th>cwn_id_1</th>\n",
       "      <th>sense_def_1</th>\n",
       "      <th>cwn_id_2</th>\n",
       "      <th>sense_def_2</th>\n",
       "    </tr>\n",
       "    <tr>\n",
       "      <th>lemma</th>\n",
       "      <th></th>\n",
       "      <th></th>\n",
       "      <th></th>\n",
       "      <th></th>\n",
       "      <th></th>\n",
       "      <th></th>\n",
       "      <th></th>\n",
       "      <th></th>\n",
       "    </tr>\n",
       "  </thead>\n",
       "  <tbody>\n",
       "    <tr>\n",
       "      <th>一些</th>\n",
       "      <td>一</td>\n",
       "      <td>些</td>\n",
       "      <td>一些 是一種 些</td>\n",
       "      <td>0</td>\n",
       "      <td>05052702</td>\n",
       "      <td>表程度輕微，常接在形容詞之後。</td>\n",
       "      <td>04045802</td>\n",
       "      <td>表程度輕微，常接在形容詞之後。</td>\n",
       "    </tr>\n",
       "    <tr>\n",
       "      <th>一半</th>\n",
       "      <td>一</td>\n",
       "      <td>半</td>\n",
       "      <td>一半 是一種 半</td>\n",
       "      <td>0</td>\n",
       "      <td>03048901</td>\n",
       "      <td>二分之一。</td>\n",
       "      <td>04081901</td>\n",
       "      <td>整體的二分之一。</td>\n",
       "    </tr>\n",
       "    <tr>\n",
       "      <th>一如</th>\n",
       "      <td>一</td>\n",
       "      <td>如</td>\n",
       "      <td>一如 是一種 如</td>\n",
       "      <td>0</td>\n",
       "      <td>03049701</td>\n",
       "      <td>引介與前述事物有高相似度的後述事物作為譬喻。</td>\n",
       "      <td>03036505</td>\n",
       "      <td>表譬喻事件情況。</td>\n",
       "    </tr>\n",
       "    <tr>\n",
       "      <th>一定</th>\n",
       "      <td>一</td>\n",
       "      <td>定</td>\n",
       "      <td>一定 是一種 定</td>\n",
       "      <td>1</td>\n",
       "      <td>05052501</td>\n",
       "      <td>表對推論的肯定，沒有例外。</td>\n",
       "      <td>09254101</td>\n",
       "      <td>表對推論的肯定，沒有例外。</td>\n",
       "    </tr>\n",
       "    <tr>\n",
       "      <th>一律</th>\n",
       "      <td>一</td>\n",
       "      <td>律</td>\n",
       "      <td>一律 是一種 律</td>\n",
       "      <td>0</td>\n",
       "      <td>04032901</td>\n",
       "      <td>表後述的條件適用全體，沒有例外。</td>\n",
       "      <td>09047003</td>\n",
       "      <td>由立法機關制定，有強制效力的行為規範。</td>\n",
       "    </tr>\n",
       "  </tbody>\n",
       "</table>\n",
       "</div>"
      ],
      "text/plain": [
       "      c1 c2 statement  response  cwn_id_1             sense_def_1  cwn_id_2  \\\n",
       "lemma                                                                         \n",
       "一些     一  些  一些 是一種 些         0  05052702         表程度輕微，常接在形容詞之後。  04045802   \n",
       "一半     一  半  一半 是一種 半         0  03048901                   二分之一。  04081901   \n",
       "一如     一  如  一如 是一種 如         0  03049701  引介與前述事物有高相似度的後述事物作為譬喻。  03036505   \n",
       "一定     一  定  一定 是一種 定         1  05052501           表對推論的肯定，沒有例外。  09254101   \n",
       "一律     一  律  一律 是一種 律         0  04032901        表後述的條件適用全體，沒有例外。  09047003   \n",
       "\n",
       "               sense_def_2  \n",
       "lemma                       \n",
       "一些         表程度輕微，常接在形容詞之後。  \n",
       "一半                整體的二分之一。  \n",
       "一如                表譬喻事件情況。  \n",
       "一定           表對推論的肯定，沒有例外。  \n",
       "一律     由立法機關制定，有強制效力的行為規範。  "
      ]
     },
     "execution_count": 53,
     "metadata": {},
     "output_type": "execute_result"
    }
   ],
   "source": [
    "sense_pair_merged.head()"
   ]
  }
 ],
 "metadata": {
  "kernelspec": {
   "display_name": "Python 3",
   "language": "python",
   "name": "python3"
  },
  "language_info": {
   "codemirror_mode": {
    "name": "ipython",
    "version": 3
   },
   "file_extension": ".py",
   "mimetype": "text/x-python",
   "name": "python",
   "nbconvert_exporter": "python",
   "pygments_lexer": "ipython3",
   "version": "3.7.2"
  }
 },
 "nbformat": 4,
 "nbformat_minor": 2
}
