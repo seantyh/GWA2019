{
 "cells": [
  {
   "cell_type": "code",
   "execution_count": 2,
   "metadata": {},
   "outputs": [],
   "source": [
    "%load_ext autoreload\n",
    "%autoreload 2\n",
    "%matplotlib inline"
   ]
  },
  {
   "cell_type": "code",
   "execution_count": 3,
   "metadata": {},
   "outputs": [],
   "source": [
    "import os\n",
    "import sys\n",
    "sys.path.append(\"../\")"
   ]
  },
  {
   "cell_type": "code",
   "execution_count": 4,
   "metadata": {},
   "outputs": [],
   "source": [
    "import pickle\n",
    "import numpy as np\n",
    "import pandas as pd\n",
    "from tqdm import tqdm_notebook as tqdm\n",
    "from CwnGraph import CwnBase\n",
    "import seaborn as sns\n",
    "import matplotlib.pyplot as plt"
   ]
  },
  {
   "cell_type": "markdown",
   "metadata": {},
   "source": [
    "# Load Data"
   ]
  },
  {
   "cell_type": "code",
   "execution_count": 5,
   "metadata": {},
   "outputs": [],
   "source": [
    "def load_synset_link_check():\n",
    "    syn0 = pd.read_csv(\"../data/annot_sense_linkage/annot_sense_linkage_v1.csv\")\n",
    "    syn1 = pd.read_csv(\"../data/annot_sense_linkage/annot_sense_linkage_v1_Yolanda.csv\")\n",
    "    syn2 = pd.read_csv(\"../data/annot_sense_linkage/annot_sense_linkage_v2_Jessica.csv\")\n",
    "    syn3 = pd.read_csv(\"../data/annot_sense_linkage/annot_sense_linkage_v3_Joy.csv\")\n",
    "    syn1 = syn1[syn0.columns]\n",
    "    syn2 = syn2[syn0.columns]\n",
    "    syn3 = syn3[syn0.columns]\n",
    "    syn = pd.concat([syn1, syn2, syn3])\n",
    "    return syn"
   ]
  },
  {
   "cell_type": "code",
   "execution_count": 6,
   "metadata": {},
   "outputs": [],
   "source": [
    "word_struct = pd.read_csv(\"../data/annot_word_struct/annot_word_struct_manual.csv\", index_col=0)\n",
    "syn_link = load_synset_link_check()"
   ]
  },
  {
   "cell_type": "code",
   "execution_count": 7,
   "metadata": {},
   "outputs": [],
   "source": [
    "SENSE_LINK_FULL = \"../data/model_sense_linkage/sense_link_full_data.pkl\"\n",
    "with open(SENSE_LINK_FULL, \"rb\") as fin:\n",
    "    bert_links = pickle.load(fin)"
   ]
  },
  {
   "cell_type": "code",
   "execution_count": 8,
   "metadata": {},
   "outputs": [
    {
     "data": {
      "text/html": [
       "<div>\n",
       "<style scoped>\n",
       "    .dataframe tbody tr th:only-of-type {\n",
       "        vertical-align: middle;\n",
       "    }\n",
       "\n",
       "    .dataframe tbody tr th {\n",
       "        vertical-align: top;\n",
       "    }\n",
       "\n",
       "    .dataframe thead th {\n",
       "        text-align: right;\n",
       "    }\n",
       "</style>\n",
       "<table border=\"1\" class=\"dataframe\">\n",
       "  <thead>\n",
       "    <tr style=\"text-align: right;\">\n",
       "      <th></th>\n",
       "      <th>serial</th>\n",
       "      <th>lemma</th>\n",
       "      <th>c1</th>\n",
       "      <th>c2</th>\n",
       "      <th>hyper_resp</th>\n",
       "      <th>cwn_id_lemma</th>\n",
       "      <th>sense_def_lemma</th>\n",
       "      <th>cwn_id_c2</th>\n",
       "      <th>sense_def_c2</th>\n",
       "      <th>link_check</th>\n",
       "      <th>annot_cwn_id_lemma</th>\n",
       "      <th>annot_cwn_id_c2</th>\n",
       "    </tr>\n",
       "  </thead>\n",
       "  <tbody>\n",
       "    <tr>\n",
       "      <th>0</th>\n",
       "      <td>0</td>\n",
       "      <td>一定</td>\n",
       "      <td>一</td>\n",
       "      <td>定</td>\n",
       "      <td>1</td>\n",
       "      <td>5052501</td>\n",
       "      <td>表對推論的肯定，沒有例外。</td>\n",
       "      <td>9254101</td>\n",
       "      <td>表對推論的肯定，沒有例外。</td>\n",
       "      <td>1.0</td>\n",
       "      <td>NaN</td>\n",
       "      <td>NaN</td>\n",
       "    </tr>\n",
       "    <tr>\n",
       "      <th>1</th>\n",
       "      <td>3</td>\n",
       "      <td>一點</td>\n",
       "      <td>一</td>\n",
       "      <td>點</td>\n",
       "      <td>1</td>\n",
       "      <td>3049101</td>\n",
       "      <td>表不確定的小數量。</td>\n",
       "      <td>4043813</td>\n",
       "      <td>表不確定的小數量。</td>\n",
       "      <td>1.0</td>\n",
       "      <td>NaN</td>\n",
       "      <td>NaN</td>\n",
       "    </tr>\n",
       "    <tr>\n",
       "      <th>2</th>\n",
       "      <td>6</td>\n",
       "      <td>並用</td>\n",
       "      <td>並</td>\n",
       "      <td>用</td>\n",
       "      <td>1</td>\n",
       "      <td>5082201</td>\n",
       "      <td>同時使用前述兩項事物。</td>\n",
       "      <td>4017401</td>\n",
       "      <td>利用特定對象的特定功能。</td>\n",
       "      <td>1.0</td>\n",
       "      <td>NaN</td>\n",
       "      <td>NaN</td>\n",
       "    </tr>\n",
       "    <tr>\n",
       "      <th>3</th>\n",
       "      <td>9</td>\n",
       "      <td>主持</td>\n",
       "      <td>主</td>\n",
       "      <td>持</td>\n",
       "      <td>1</td>\n",
       "      <td>6656901</td>\n",
       "      <td>主導並負責後述計畫。</td>\n",
       "      <td>6757405</td>\n",
       "      <td>維持擁有的狀態。</td>\n",
       "      <td>0.0</td>\n",
       "      <td>6656901.0</td>\n",
       "      <td>6757404.0</td>\n",
       "    </tr>\n",
       "    <tr>\n",
       "      <th>4</th>\n",
       "      <td>12</td>\n",
       "      <td>乃兄</td>\n",
       "      <td>乃</td>\n",
       "      <td>兄</td>\n",
       "      <td>1</td>\n",
       "      <td>5029001</td>\n",
       "      <td>代指聽話者的哥哥。</td>\n",
       "      <td>7042703</td>\n",
       "      <td>同輩而年紀比自己大的男子。</td>\n",
       "      <td>1.0</td>\n",
       "      <td>NaN</td>\n",
       "      <td>NaN</td>\n",
       "    </tr>\n",
       "  </tbody>\n",
       "</table>\n",
       "</div>"
      ],
      "text/plain": [
       "   serial lemma c1 c2  hyper_resp  cwn_id_lemma sense_def_lemma  cwn_id_c2  \\\n",
       "0       0    一定  一  定           1       5052501   表對推論的肯定，沒有例外。    9254101   \n",
       "1       3    一點  一  點           1       3049101       表不確定的小數量。    4043813   \n",
       "2       6    並用  並  用           1       5082201     同時使用前述兩項事物。    4017401   \n",
       "3       9    主持  主  持           1       6656901      主導並負責後述計畫。    6757405   \n",
       "4      12    乃兄  乃  兄           1       5029001       代指聽話者的哥哥。    7042703   \n",
       "\n",
       "    sense_def_c2  link_check  annot_cwn_id_lemma  annot_cwn_id_c2  \n",
       "0  表對推論的肯定，沒有例外。         1.0                 NaN              NaN  \n",
       "1      表不確定的小數量。         1.0                 NaN              NaN  \n",
       "2   利用特定對象的特定功能。         1.0                 NaN              NaN  \n",
       "3       維持擁有的狀態。         0.0           6656901.0        6757404.0  \n",
       "4  同輩而年紀比自己大的男子。         1.0                 NaN              NaN  "
      ]
     },
     "execution_count": 8,
     "metadata": {},
     "output_type": "execute_result"
    }
   ],
   "source": [
    "syn_link.head()"
   ]
  },
  {
   "cell_type": "code",
   "execution_count": 9,
   "metadata": {},
   "outputs": [],
   "source": [
    "syn_link_m = syn_link[[\"lemma\", \"c1\", \"c2\", \"cwn_id_lemma\", \"cwn_id_c2\", \"link_check\", \"annot_cwn_id_lemma\", \"annot_cwn_id_c2\"]]\n",
    "word_struct_m = word_struct[[\"lemma\", \"struct\"]]\n",
    "syn_struct = syn_link_m.merge(word_struct_m, left_on=\"lemma\", right_on=\"lemma\", how=\"left\")"
   ]
  },
  {
   "cell_type": "code",
   "execution_count": 10,
   "metadata": {},
   "outputs": [
    {
     "data": {
      "text/html": [
       "<div>\n",
       "<style scoped>\n",
       "    .dataframe tbody tr th:only-of-type {\n",
       "        vertical-align: middle;\n",
       "    }\n",
       "\n",
       "    .dataframe tbody tr th {\n",
       "        vertical-align: top;\n",
       "    }\n",
       "\n",
       "    .dataframe thead tr th {\n",
       "        text-align: left;\n",
       "    }\n",
       "\n",
       "    .dataframe thead tr:last-of-type th {\n",
       "        text-align: right;\n",
       "    }\n",
       "</style>\n",
       "<table border=\"1\" class=\"dataframe\">\n",
       "  <thead>\n",
       "    <tr>\n",
       "      <th></th>\n",
       "      <th colspan=\"2\" halign=\"left\">link_check</th>\n",
       "    </tr>\n",
       "    <tr>\n",
       "      <th></th>\n",
       "      <th>count</th>\n",
       "      <th>mean</th>\n",
       "    </tr>\n",
       "    <tr>\n",
       "      <th>struct</th>\n",
       "      <th></th>\n",
       "      <th></th>\n",
       "    </tr>\n",
       "  </thead>\n",
       "  <tbody>\n",
       "    <tr>\n",
       "      <th>NN</th>\n",
       "      <td>337</td>\n",
       "      <td>0.810089</td>\n",
       "    </tr>\n",
       "    <tr>\n",
       "      <th>NV</th>\n",
       "      <td>101</td>\n",
       "      <td>0.801980</td>\n",
       "    </tr>\n",
       "    <tr>\n",
       "      <th>VN</th>\n",
       "      <td>116</td>\n",
       "      <td>0.844828</td>\n",
       "    </tr>\n",
       "    <tr>\n",
       "      <th>VV</th>\n",
       "      <td>148</td>\n",
       "      <td>0.831081</td>\n",
       "    </tr>\n",
       "  </tbody>\n",
       "</table>\n",
       "</div>"
      ],
      "text/plain": [
       "       link_check          \n",
       "            count      mean\n",
       "struct                     \n",
       "NN            337  0.810089\n",
       "NV            101  0.801980\n",
       "VN            116  0.844828\n",
       "VV            148  0.831081"
      ]
     },
     "execution_count": 10,
     "metadata": {},
     "output_type": "execute_result"
    }
   ],
   "source": [
    "syn_struct.groupby(\"struct\").agg({\"link_check\": [\"count\", \"mean\"]})"
   ]
  },
  {
   "cell_type": "markdown",
   "metadata": {},
   "source": [
    "## Synset linkage accuracy"
   ]
  },
  {
   "cell_type": "code",
   "execution_count": 11,
   "metadata": {},
   "outputs": [
    {
     "name": "stdout",
     "output_type": "stream",
     "text": [
      "Overall check:  0.8190883190883191\n",
      "NN/VV count:  485\n",
      "NN/VV check:  0.8164948453608247\n"
     ]
    }
   ],
   "source": [
    "print(\"Overall check: \", syn_struct.link_check.mean())\n",
    "syn_struct_vn = syn_struct.loc[syn_struct.struct.apply(lambda x: x in (\"NN\", \"VV\")), :].copy()\n",
    "print(\"NN/VV count: \", syn_struct_vn.shape[0] )\n",
    "print(\"NN/VV check: \", syn_struct_vn[\"link_check\"].mean())"
   ]
  },
  {
   "cell_type": "markdown",
   "metadata": {},
   "source": [
    "# Error analysis"
   ]
  },
  {
   "cell_type": "code",
   "execution_count": 12,
   "metadata": {},
   "outputs": [
    {
     "name": "stdout",
     "output_type": "stream",
     "text": [
      "(89, 9)\n",
      "(80, 9)\n"
     ]
    }
   ],
   "source": [
    "link_errors = syn_struct_vn.loc[syn_struct_vn.link_check == 0, :].copy()\n",
    "print(link_errors.shape)\n",
    "link_errors.dropna(inplace=True)\n",
    "print(link_errors.shape)\n",
    "link_errors = link_errors.astype({\"annot_cwn_id_lemma\": int, \"annot_cwn_id_c2\": int})"
   ]
  },
  {
   "cell_type": "code",
   "execution_count": 13,
   "metadata": {},
   "outputs": [],
   "source": [
    "def make_bert_links_index(bert_data):\n",
    "    bert_map = {}\n",
    "    for x in bert_data:\n",
    "        try:\n",
    "            lemma_sense = x[0][0][0]\n",
    "            lemma_id = lemma_sense.id[:-2]\n",
    "            lemma = lemma_sense.lemmas[0]            \n",
    "            bert_map[lemma.lemma] = x            \n",
    "        except Exception as ex:\n",
    "            print(ex)\n",
    "            continue\n",
    "    return bert_map\n",
    "bert_map = make_bert_links_index(bert_links)"
   ]
  },
  {
   "cell_type": "code",
   "execution_count": 14,
   "metadata": {},
   "outputs": [],
   "source": [
    "error_ranks = []\n",
    "for idx, row in link_errors.iterrows():\n",
    "    lemma = row.lemma\n",
    "    sid1 = \"{:08d}\".format(row.annot_cwn_id_lemma)\n",
    "    sid2 = \"{:08d}\".format(row.annot_cwn_id_c2)    \n",
    "    lemma_id = sid1[:-2]\n",
    "    links_x = bert_map.get(lemma)\n",
    "    sid_pairs = [(sense_pair[0].id, sense_pair[1].id) for sense_pair, score in links_x]    \n",
    "    try:\n",
    "        pair_rank = sid_pairs.index((sid1, sid2))\n",
    "    except:\n",
    "        pair_rank = -1\n",
    "    error_ranks.append((row.lemma, pair_rank))    "
   ]
  },
  {
   "cell_type": "code",
   "execution_count": 15,
   "metadata": {},
   "outputs": [],
   "source": [
    "error_ranks_df = pd.DataFrame.from_records(error_ranks, columns=[\"lemma\", \"error_rank\"])\n",
    "syn_struct_vn = syn_struct_vn.merge(error_ranks_df, left_on=\"lemma\", right_on=\"lemma\", how=\"left\")\n",
    "syn_struct_vn.loc[syn_struct_vn[\"error_rank\"].isnull(), \"error_rank\"] = 0"
   ]
  },
  {
   "cell_type": "code",
   "execution_count": 16,
   "metadata": {},
   "outputs": [
    {
     "name": "stdout",
     "output_type": "stream",
     "text": [
      "Rank < 5:  0.9567010309278351\n",
      "Rank < 10:  0.9814432989690721\n"
     ]
    }
   ],
   "source": [
    "print(\"Rank < 5: \", syn_struct_vn[(syn_struct_vn.error_rank >= 0) & (syn_struct_vn.error_rank < 5)].shape[0] / syn_struct_vn.shape[0])\n",
    "print(\"Rank < 10: \", syn_struct_vn[syn_struct_vn.error_rank >= 0].shape[0] / syn_struct_vn.shape[0])"
   ]
  },
  {
   "cell_type": "markdown",
   "metadata": {},
   "source": [
    "## Make Baseline: random"
   ]
  },
  {
   "cell_type": "code",
   "execution_count": 17,
   "metadata": {},
   "outputs": [],
   "source": [
    "cwn = CwnBase()"
   ]
  },
  {
   "cell_type": "code",
   "execution_count": 18,
   "metadata": {},
   "outputs": [],
   "source": [
    "def count_senses(lemma):\n",
    "    lemmas = cwn.find_lemma(f\"^{lemma}$\")\n",
    "    n_senses = sum(len(x.senses) for x in lemmas)\n",
    "    return n_senses"
   ]
  },
  {
   "cell_type": "code",
   "execution_count": 19,
   "metadata": {},
   "outputs": [],
   "source": [
    "syn_struct_nsense = syn_struct_vn[[\"lemma\", \"c2\"]].copy()"
   ]
  },
  {
   "cell_type": "code",
   "execution_count": 20,
   "metadata": {},
   "outputs": [],
   "source": [
    "syn_struct_nsense[\"lemma_nsense\"] = np.nan\n",
    "syn_struct_nsense[\"c2_nsense\"] = np.nan\n",
    "syn_struct_nsense[\"rand_base\"] = np.nan"
   ]
  },
  {
   "cell_type": "code",
   "execution_count": 21,
   "metadata": {},
   "outputs": [
    {
     "data": {
      "text/html": [
       "<div>\n",
       "<style scoped>\n",
       "    .dataframe tbody tr th:only-of-type {\n",
       "        vertical-align: middle;\n",
       "    }\n",
       "\n",
       "    .dataframe tbody tr th {\n",
       "        vertical-align: top;\n",
       "    }\n",
       "\n",
       "    .dataframe thead th {\n",
       "        text-align: right;\n",
       "    }\n",
       "</style>\n",
       "<table border=\"1\" class=\"dataframe\">\n",
       "  <thead>\n",
       "    <tr style=\"text-align: right;\">\n",
       "      <th></th>\n",
       "      <th>lemma</th>\n",
       "      <th>c2</th>\n",
       "      <th>lemma_nsense</th>\n",
       "      <th>c2_nsense</th>\n",
       "      <th>rand_base</th>\n",
       "    </tr>\n",
       "  </thead>\n",
       "  <tbody>\n",
       "    <tr>\n",
       "      <th>0</th>\n",
       "      <td>一點</td>\n",
       "      <td>點</td>\n",
       "      <td>NaN</td>\n",
       "      <td>NaN</td>\n",
       "      <td>NaN</td>\n",
       "    </tr>\n",
       "    <tr>\n",
       "      <th>1</th>\n",
       "      <td>並用</td>\n",
       "      <td>用</td>\n",
       "      <td>NaN</td>\n",
       "      <td>NaN</td>\n",
       "      <td>NaN</td>\n",
       "    </tr>\n",
       "    <tr>\n",
       "      <th>2</th>\n",
       "      <td>乃兄</td>\n",
       "      <td>兄</td>\n",
       "      <td>NaN</td>\n",
       "      <td>NaN</td>\n",
       "      <td>NaN</td>\n",
       "    </tr>\n",
       "    <tr>\n",
       "      <th>3</th>\n",
       "      <td>之後</td>\n",
       "      <td>後</td>\n",
       "      <td>NaN</td>\n",
       "      <td>NaN</td>\n",
       "      <td>NaN</td>\n",
       "    </tr>\n",
       "    <tr>\n",
       "      <th>4</th>\n",
       "      <td>亞洲</td>\n",
       "      <td>洲</td>\n",
       "      <td>NaN</td>\n",
       "      <td>NaN</td>\n",
       "      <td>NaN</td>\n",
       "    </tr>\n",
       "  </tbody>\n",
       "</table>\n",
       "</div>"
      ],
      "text/plain": [
       "  lemma c2  lemma_nsense  c2_nsense  rand_base\n",
       "0    一點  點           NaN        NaN        NaN\n",
       "1    並用  用           NaN        NaN        NaN\n",
       "2    乃兄  兄           NaN        NaN        NaN\n",
       "3    之後  後           NaN        NaN        NaN\n",
       "4    亞洲  洲           NaN        NaN        NaN"
      ]
     },
     "execution_count": 21,
     "metadata": {},
     "output_type": "execute_result"
    }
   ],
   "source": [
    "syn_struct_nsense.head()"
   ]
  },
  {
   "cell_type": "code",
   "execution_count": 22,
   "metadata": {},
   "outputs": [
    {
     "data": {
      "application/vnd.jupyter.widget-view+json": {
       "model_id": "3cf93b8c08a744d8add96a3f1b97f60e",
       "version_major": 2,
       "version_minor": 0
      },
      "text/plain": [
       "HBox(children=(IntProgress(value=1, bar_style='info', max=1), HTML(value='')))"
      ]
     },
     "metadata": {},
     "output_type": "display_data"
    },
    {
     "name": "stdout",
     "output_type": "stream",
     "text": [
      "\n"
     ]
    }
   ],
   "source": [
    "for idx, row in tqdm(syn_struct_nsense.iterrows()):\n",
    "    lemma_nsense = count_senses(row.lemma)\n",
    "    c2_nsense = count_senses(row.c2)    \n",
    "    rand_base = 1/(lemma_nsense * c2_nsense)\n",
    "    syn_struct_nsense.loc[idx, \"lemma_nsense\"] = lemma_nsense\n",
    "    syn_struct_nsense.loc[idx, \"c2_nsense\"] = c2_nsense\n",
    "    syn_struct_nsense.loc[idx, \"rand_base\"] = rand_base"
   ]
  },
  {
   "cell_type": "code",
   "execution_count": 23,
   "metadata": {},
   "outputs": [],
   "source": [
    "syn_struct_vn = syn_struct_vn.merge(syn_struct_nsense.drop(\"c2\", axis=1), how=\"left\", left_on=\"lemma\", right_on=\"lemma\")"
   ]
  },
  {
   "cell_type": "code",
   "execution_count": 24,
   "metadata": {},
   "outputs": [
    {
     "data": {
      "text/plain": [
       "0.14991622555317496"
      ]
     },
     "execution_count": 24,
     "metadata": {},
     "output_type": "execute_result"
    }
   ],
   "source": [
    "syn_struct_vn.rand_base.mean()"
   ]
  },
  {
   "cell_type": "markdown",
   "metadata": {},
   "source": [
    "## Make baseline: first sense"
   ]
  },
  {
   "cell_type": "code",
   "execution_count": 25,
   "metadata": {},
   "outputs": [],
   "source": [
    "is_first = []\n",
    "for idx, row in syn_struct_vn.iterrows():\n",
    "    if row.link_check == 1:\n",
    "        if row.cwn_id_lemma % 10 == 1 and \\\n",
    "           row.cwn_id_c2 % 10 == 1:\n",
    "            is_first.append(1)\n",
    "        else:\n",
    "            is_first.append(0)\n",
    "    else:\n",
    "        if row.annot_cwn_id_lemma % 10 == 1 and \\\n",
    "           row.annot_cwn_id_c2 % 10 == 1:\n",
    "            is_first.append(1)\n",
    "        else:\n",
    "            is_first.append(0)"
   ]
  },
  {
   "cell_type": "code",
   "execution_count": 26,
   "metadata": {},
   "outputs": [],
   "source": [
    "syn_struct_vn[\"is_first\"] = is_first"
   ]
  },
  {
   "cell_type": "code",
   "execution_count": 27,
   "metadata": {},
   "outputs": [
    {
     "name": "stdout",
     "output_type": "stream",
     "text": [
      "Use first sense strategy:  0.41649484536082476\n"
     ]
    }
   ],
   "source": [
    "print(\"Use first sense strategy: \", syn_struct_vn.is_first.mean())"
   ]
  },
  {
   "cell_type": "markdown",
   "metadata": {},
   "source": [
    "## Sense count and model errors"
   ]
  },
  {
   "cell_type": "code",
   "execution_count": 28,
   "metadata": {},
   "outputs": [],
   "source": [
    "correct_lemma_nsense = syn_struct_vn.loc[syn_struct_vn.link_check==1, \"lemma_nsense\"]\n",
    "error_lemma_nsense = syn_struct_vn.loc[syn_struct_vn.link_check==0, \"lemma_nsense\"]\n",
    "correct_c2_nsense = syn_struct_vn.loc[syn_struct_vn.link_check==1, \"c2_nsense\"]\n",
    "error_c2_nsense = syn_struct_vn.loc[syn_struct_vn.link_check==0, \"c2_nsense\"]"
   ]
  },
  {
   "cell_type": "code",
   "execution_count": 56,
   "metadata": {},
   "outputs": [
    {
     "data": {
      "image/png": "[encoded data removed]",
      "text/plain": [
       "<Figure size 480x480 with 2 Axes>"
      ]
     },
     "metadata": {
      "needs_background": "light"
     },
     "output_type": "display_data"
    }
   ],
   "source": [
    "fig = plt.figure(figsize=(4,4), dpi=120)\n",
    "ax1=plt.subplot(2,1,1)\n",
    "BW = 1.5\n",
    "sns.set_palette(\"gray\")\n",
    "sns.distplot(correct_lemma_nsense, hist=False, kde=True, kde_kws={'shade': False, \"bw\": BW}, label=\"Correct\")\n",
    "sns.distplot(error_lemma_nsense, hist=False, kde=True, kde_kws={'shade': False, \"bw\": BW, \"linestyle\": '--'}, label=\"Missed\")\n",
    "plt.title(\"Whole word sense count distribution\")\n",
    "plt.ylabel('density')\n",
    "plt.xlabel('number of senses')\n",
    "\n",
    "# C2 sense\n",
    "plt.subplot(2,1,2,sharex=ax1)\n",
    "sns.set_palette(\"gray\")\n",
    "sns.distplot(correct_c2_nsense, hist=False, kde=True, kde_kws={'shade': False, \"bw\": BW}, label=\"Correct\")\n",
    "sns.distplot(error_c2_nsense, hist=False, kde=True, kde_kws={'shade': False, \"bw\": BW, \"linestyle\": '--'}, label=\"Missed\")\n",
    "plt.title(\"2nd charac sense count distribution\")\n",
    "plt.ylabel('density')\n",
    "plt.xlabel('number of senses')\n",
    "plt.tight_layout(pad=0.4, w_pad=0.5, h_pad=1.0)\n",
    "# plt.xlim(-0.1,0.8)"
   ]
  },
  {
   "cell_type": "code",
   "execution_count": 57,
   "metadata": {},
   "outputs": [],
   "source": [
    "fig.savefig('../data/model_evaluation/sense_counts.png')"
   ]
  },
  {
   "cell_type": "markdown",
   "metadata": {},
   "source": [
    "# Make Summarize Table"
   ]
  },
  {
   "cell_type": "code",
   "execution_count": 31,
   "metadata": {},
   "outputs": [],
   "source": [
    "def in_rank_10(ranks):\n",
    "    nom = sum(1 for x in ranks if x>=0)\n",
    "    denom = len(ranks)\n",
    "    return nom/denom\n",
    "\n",
    "def in_rank_5(ranks):\n",
    "    nom = sum(1 for x in ranks if 0<=x<5)\n",
    "    denom = len(ranks)\n",
    "    return nom/denom\n",
    "\n",
    "summ_table = syn_struct_vn.groupby(\"struct\").agg({\n",
    "    \"struct\": \"count\", \"link_check\": \"mean\",\n",
    "    \"error_rank\": [in_rank_5, in_rank_10],\n",
    "    \"rand_base\": \"mean\", \"is_first\": \"mean\"})\n",
    "summ_table = summ_table.transpose()"
   ]
  },
  {
   "cell_type": "code",
   "execution_count": 32,
   "metadata": {},
   "outputs": [],
   "source": [
    "n_NN, n_VV = summ_table.iloc[0, :]\n",
    "summ_table[\"overall\"] = np.nan\n",
    "summ_table.loc[summ_table.index[0], \"overall\"] = n_NN+n_VV\n",
    "for idx, row in summ_table.iloc[1:, :].iterrows():\n",
    "    summ_table.loc[idx, \"overall\"] = (row.NN*n_NN + row.VV*n_VV) / (n_NN+n_VV)"
   ]
  },
  {
   "cell_type": "code",
   "execution_count": 33,
   "metadata": {},
   "outputs": [],
   "source": [
    "out_table = summ_table.copy()\n",
    "out_table.index = summ_table.index.droplevel(1)"
   ]
  },
  {
   "cell_type": "code",
   "execution_count": 34,
   "metadata": {},
   "outputs": [],
   "source": [
    "out_table = out_table.reset_index(drop=True)\n",
    "row_names = [\"N\", \"Accuracy\", \"First 5\", \"First 10\", \"Random\", \"Use First\"]\n",
    "out_table.rename(index={i: x for i, x in enumerate(row_names)}, inplace=True)"
   ]
  },
  {
   "cell_type": "code",
   "execution_count": 35,
   "metadata": {},
   "outputs": [],
   "source": [
    "from tabulate import tabulate"
   ]
  },
  {
   "cell_type": "code",
   "execution_count": 36,
   "metadata": {},
   "outputs": [
    {
     "name": "stdout",
     "output_type": "stream",
     "text": [
      "\\begin{tabular}{lrrr}\n",
      "\\hline\n",
      "           &     NN &     VV &   overall \\\\\n",
      "\\hline\n",
      " N         & 337.00 & 148.00 &    485.00 \\\\\n",
      " Accuracy  &   0.81 &   0.83 &      0.82 \\\\\n",
      " First 5   &   0.96 &   0.94 &      0.96 \\\\\n",
      " First 10  &   0.99 &   0.97 &      0.98 \\\\\n",
      " Random    &   0.12 &   0.21 &      0.15 \\\\\n",
      " Use First &   0.40 &   0.46 &      0.42 \\\\\n",
      "\\hline\n",
      "\\end{tabular}\n"
     ]
    }
   ],
   "source": [
    "print(tabulate(out_table, tablefmt='latex', floatfmt=\".2f\", headers=out_table.columns))"
   ]
  },
  {
   "cell_type": "code",
   "execution_count": 37,
   "metadata": {},
   "outputs": [
    {
     "data": {
      "text/html": [
       "<div>\n",
       "<style scoped>\n",
       "    .dataframe tbody tr th:only-of-type {\n",
       "        vertical-align: middle;\n",
       "    }\n",
       "\n",
       "    .dataframe tbody tr th {\n",
       "        vertical-align: top;\n",
       "    }\n",
       "\n",
       "    .dataframe thead th {\n",
       "        text-align: right;\n",
       "    }\n",
       "</style>\n",
       "<table border=\"1\" class=\"dataframe\">\n",
       "  <thead>\n",
       "    <tr style=\"text-align: right;\">\n",
       "      <th>struct</th>\n",
       "      <th>NN</th>\n",
       "      <th>VV</th>\n",
       "      <th>overall</th>\n",
       "    </tr>\n",
       "  </thead>\n",
       "  <tbody>\n",
       "    <tr>\n",
       "      <th>N</th>\n",
       "      <td>337.000000</td>\n",
       "      <td>148.000000</td>\n",
       "      <td>485.000000</td>\n",
       "    </tr>\n",
       "    <tr>\n",
       "      <th>Accuracy</th>\n",
       "      <td>0.810089</td>\n",
       "      <td>0.831081</td>\n",
       "      <td>0.816495</td>\n",
       "    </tr>\n",
       "    <tr>\n",
       "      <th>First 5</th>\n",
       "      <td>0.964392</td>\n",
       "      <td>0.939189</td>\n",
       "      <td>0.956701</td>\n",
       "    </tr>\n",
       "    <tr>\n",
       "      <th>First 10</th>\n",
       "      <td>0.988131</td>\n",
       "      <td>0.966216</td>\n",
       "      <td>0.981443</td>\n",
       "    </tr>\n",
       "    <tr>\n",
       "      <th>Random</th>\n",
       "      <td>0.123285</td>\n",
       "      <td>0.210557</td>\n",
       "      <td>0.149916</td>\n",
       "    </tr>\n",
       "    <tr>\n",
       "      <th>Use First</th>\n",
       "      <td>0.397626</td>\n",
       "      <td>0.459459</td>\n",
       "      <td>0.416495</td>\n",
       "    </tr>\n",
       "  </tbody>\n",
       "</table>\n",
       "</div>"
      ],
      "text/plain": [
       "struct             NN          VV     overall\n",
       "N          337.000000  148.000000  485.000000\n",
       "Accuracy     0.810089    0.831081    0.816495\n",
       "First 5      0.964392    0.939189    0.956701\n",
       "First 10     0.988131    0.966216    0.981443\n",
       "Random       0.123285    0.210557    0.149916\n",
       "Use First    0.397626    0.459459    0.416495"
      ]
     },
     "execution_count": 37,
     "metadata": {},
     "output_type": "execute_result"
    }
   ],
   "source": [
    "out_table"
   ]
  },
  {
   "cell_type": "code",
   "execution_count": null,
   "metadata": {},
   "outputs": [],
   "source": []
  }
 ],
 "metadata": {
  "kernelspec": {
   "display_name": "Python 3",
   "language": "python",
   "name": "python3"
  },
  "language_info": {
   "codemirror_mode": {
    "name": "ipython",
    "version": 3
   },
   "file_extension": ".py",
   "mimetype": "text/x-python",
   "name": "python",
   "nbconvert_exporter": "python",
   "pygments_lexer": "ipython3",
   "version": "3.7.2"
  }
 },
 "nbformat": 4,
 "nbformat_minor": 2
}
