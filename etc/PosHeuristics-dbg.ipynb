{
 "cells": [
  {
   "cell_type": "code",
   "execution_count": 1,
   "metadata": {},
   "outputs": [],
   "source": [
    "%load_ext autoreload\n",
    "%autoreload 2"
   ]
  },
  {
   "cell_type": "code",
   "execution_count": 2,
   "metadata": {},
   "outputs": [],
   "source": [
    "import os\n",
    "import sys\n",
    "sys.path.append(\"../\")"
   ]
  },
  {
   "cell_type": "code",
   "execution_count": 3,
   "metadata": {},
   "outputs": [],
   "source": [
    "import pandas as pd\n",
    "from GWA2019 import word_pos_utils as word_pos"
   ]
  },
  {
   "cell_type": "code",
   "execution_count": 4,
   "metadata": {},
   "outputs": [],
   "source": [
    "moe_inst = word_pos.MOE(\"../resources/dict-revised.json\")"
   ]
  },
  {
   "cell_type": "code",
   "execution_count": 5,
   "metadata": {},
   "outputs": [],
   "source": [
    "import logging\n",
    "logging.basicConfig(level=\"DEBUG\")"
   ]
  },
  {
   "cell_type": "markdown",
   "metadata": {},
   "source": [
    "# query_word_pos DEBUG test"
   ]
  },
  {
   "cell_type": "code",
   "execution_count": 6,
   "metadata": {},
   "outputs": [
    {
     "name": "stderr",
     "output_type": "stream",
     "text": [
      "DEBUG:word_pos_utils:sense def [N]: 內臟之一。參見「心臟」條。\n",
      "DEBUG:word_pos_utils:quote[is_classic: False]: []\n",
      "DEBUG:word_pos_utils:examplar_words: []\n",
      "DEBUG:word_pos_utils:word_freqs: []\n",
      "DEBUG:word_pos_utils:sense def [N]: 我國古代認為心主管思維，故相沿以為腦的代稱。\n",
      "DEBUG:word_pos_utils:quote[is_classic: True]: ['《孟子．告子上》：「心之官則思。」']\n",
      "DEBUG:word_pos_utils:sense def [N]: 思想、意念、感情。\n",
      "DEBUG:word_pos_utils:quote[is_classic: True]: ['《文選．曹丕．與吳質書》：「東望於邑，裁書敘心。」', '唐．柳宗元〈始得西山宴游記〉：「心凝形釋。」']\n",
      "DEBUG:word_pos_utils:sense def [N]: 思慮、謀畫。\n",
      "DEBUG:word_pos_utils:quote[is_classic: True]: ['《呂氏春秋．審應覽．精諭》：「紂雖 多心，弗能知矣。」']\n",
      "DEBUG:word_pos_utils:sense def [N]: 性情。\n",
      "DEBUG:word_pos_utils:quote[is_classic: True]: ['《韓非子．觀行》：「西門豹之性急，故佩韋以自緩，董安于之心緩，故佩弦以自急。」']\n",
      "DEBUG:word_pos_utils:sense def [N]: 平面或物體的中央或內部。\n",
      "DEBUG:word_pos_utils:quote[is_classic: False]: ['唐．劉禹錫〈洞庭秋月行〉：「洞庭秋月生湖心，層波萬頃如鎔金。」']\n",
      "DEBUG:word_pos_utils:examplar_words: ['江心', '掌心', '圓心']\n",
      "DEBUG:word_pos_utils:word_freqs: [5, 8, 2]\n",
      "DEBUG:word_pos_utils:sense def [N]: 植物的花蕊或苗尖。\n",
      "DEBUG:word_pos_utils:quote[is_classic: False]: ['南朝梁．簡文帝〈上巳侍宴林光殿曲水詩〉：「林花初墮蔕，池荷欲吐心。」']\n",
      "DEBUG:word_pos_utils:examplar_words: ['花心']\n",
      "DEBUG:word_pos_utils:word_freqs: [9]\n",
      "DEBUG:word_pos_utils:sense def [N]: 星座名。二十八星宿之一。東方蒼龍七宿的第五宿，有三顆星。\n",
      "DEBUG:word_pos_utils:quote[is_classic: True]: ['《詩經．唐風．綢繆》：「三星在天。」', '漢．鄭玄．箋：「三星，謂心星也。」']\n",
      "DEBUG:word_pos_utils:sense def [N]: 二一四部首之一。\n",
      "DEBUG:word_pos_utils:quote[is_classic: False]: []\n",
      "DEBUG:word_pos_utils:examplar_words: []\n",
      "DEBUG:word_pos_utils:word_freqs: []\n",
      "DEBUG:word_pos_utils:sense def [V]: 以腳蹬地，使身體往上或向前的動作。\n",
      "DEBUG:word_pos_utils:quote[is_classic: True]: ['《水滸傳．第二三回》：「那一陣風過處，只聽得亂樹背後，撲地一聲響，跳出一隻 弔睛白額大虫來。」']\n",
      "DEBUG:word_pos_utils:sense def [V]: 振動。\n",
      "DEBUG:word_pos_utils:quote[is_classic: True]: ['《浮生六記．卷一．閨房記樂》：「握其腕，暖尖滑膩，胸中不覺怦怦作跳。」']\n",
      "DEBUG:word_pos_utils:sense def [V]: 越過。\n",
      "DEBUG:word_pos_utils:quote[is_classic: False]: []\n",
      "DEBUG:word_pos_utils:examplar_words: ['跳行', '跳級', '這一頁跳過去不看。']\n",
      "DEBUG:word_pos_utils:word_freqs: [0, 8, 0]\n",
      "DEBUG:word_pos_utils:sense def [V]: 脫離、逃出。\n",
      "DEBUG:word_pos_utils:quote[is_classic: True]: ['《紅樓夢．第五回》：「萬望先以情欲聲色等事警其痴頑，或能使彼跳出迷人圈子，然後入於正路。」']\n"
     ]
    },
    {
     "data": {
      "text/plain": [
       "['N', 'V']"
      ]
     },
     "execution_count": 6,
     "metadata": {},
     "output_type": "execute_result"
    }
   ],
   "source": [
    "word_pos.query_word_pos(\"心跳\", moe_inst)"
   ]
  },
  {
   "cell_type": "code",
   "execution_count": 7,
   "metadata": {},
   "outputs": [
    {
     "name": "stderr",
     "output_type": "stream",
     "text": [
      "DEBUG:word_pos_utils:sense def [V]: 踮著腳尖，把腳後跟提起來。\n",
      "DEBUG:word_pos_utils:quote[is_classic: True]: ['《漢書．卷一．高帝紀上》：「吏卒皆山東之人，日夜企而望歸。」', '《文選．謝靈運．從斤竹澗越嶺溪行詩》：「企石挹飛泉，攀林摘葉卷。」']\n",
      "DEBUG:word_pos_utils:sense def [V]: 盼望。\n",
      "DEBUG:word_pos_utils:quote[is_classic: False]: []\n",
      "DEBUG:word_pos_utils:examplar_words: ['企盼', '企望']\n",
      "DEBUG:word_pos_utils:word_freqs: [12, 4]\n",
      "DEBUG:word_pos_utils:sense def [N]: 由各種線條、形狀、色彩等描繪成的形象或畫面。\n",
      "DEBUG:word_pos_utils:quote[is_classic: False]: []\n",
      "DEBUG:word_pos_utils:examplar_words: ['地圖', '設計圖', '插圖', '草圖']\n",
      "DEBUG:word_pos_utils:word_freqs: [114, 11, 11, 16]\n",
      "DEBUG:word_pos_utils:sense def [N]: 疆域。\n",
      "DEBUG:word_pos_utils:quote[is_classic: False]: ['唐．杜甫〈秦州雜詩〉二○首之三：「州圖領同谷，驛道出流沙。」']\n",
      "DEBUG:word_pos_utils:examplar_words: ['版圖']\n",
      "DEBUG:word_pos_utils:word_freqs: [34]\n",
      "DEBUG:word_pos_utils:sense def [N]: 欲念。\n",
      "DEBUG:word_pos_utils:quote[is_classic: True]: ['《文選．陸機．五等論》：「故彊晉收其請隧之圖，暴楚頓觀鼎之志。」', '唐．杜甫〈過南嶽入洞庭湖〉詩：「帝子留遺恨，曹公屈壯圖。」']\n",
      "DEBUG:word_pos_utils:sense def [V]: 繪畫、描繪。\n",
      "DEBUG:word_pos_utils:quote[is_classic: True]: ['《南史．卷八．梁元帝本紀》：「自圖宣尼像，為之贊而書之。」', '《西遊記．第三二回》：「我記得他的模樣，曾將他師徒畫了一個影，圖了一個形，你可拿去。」']\n",
      "DEBUG:word_pos_utils:sense def [V]: 策劃、考慮。\n",
      "DEBUG:word_pos_utils:quote[is_classic: True]: ['《史記．卷八六．刺客傳．曹沬傳》：「今魯城壞，即壓齊境，君其圖之！」', '宋．曾鞏〈宜黃縣學記〉：「天子圖當世之務，而以學為先，於是天下之學乃得立。」']\n",
      "DEBUG:word_pos_utils:sense def [V]: 謀取、謀求。\n",
      "DEBUG:word_pos_utils:quote[is_classic: True]: ['《戰國策．秦策四》：「韓、魏從，而天下可圖也。」', '《紅樓夢．第七○回》：「放風箏圖的是這一樂，所以又說放晦氣。」']\n"
     ]
    },
    {
     "data": {
      "text/plain": [
       "['V', 'N']"
      ]
     },
     "execution_count": 7,
     "metadata": {},
     "output_type": "execute_result"
    }
   ],
   "source": [
    "word_pos.query_word_pos(\"企圖\", moe_inst)"
   ]
  },
  {
   "cell_type": "code",
   "execution_count": 8,
   "metadata": {},
   "outputs": [
    {
     "name": "stderr",
     "output_type": "stream",
     "text": [
      "DEBUG:word_pos_utils:sense def [N]: 交通要道。\n",
      "DEBUG:word_pos_utils:quote[is_classic: True]: ['《漢書．卷四三．酈食其傳》：「夫陳留，天下之衝，四通五達之郊也。」']\n",
      "DEBUG:word_pos_utils:sense def [V]: 朝向前直行。\n",
      "DEBUG:word_pos_utils:quote[is_classic: True]: ['《後漢書．卷一七．岑彭傳》：「時天風狂急，奇船逆流而上，直衝浮橋。」']\n",
      "DEBUG:word_pos_utils:sense def [V]: 直著向上頂。\n",
      "DEBUG:word_pos_utils:quote[is_classic: False]: []\n",
      "DEBUG:word_pos_utils:examplar_words: ['怒髮衝冠']\n",
      "DEBUG:word_pos_utils:word_freqs: [2]\n",
      "DEBUG:word_pos_utils:sense def [V]: 突擊。\n",
      "DEBUG:word_pos_utils:quote[is_classic: True]: ['《戰國策．齊策一》：「使輕車銳騎衝雍門。」']\n",
      "DEBUG:word_pos_utils:sense def [V]: 碰撞、冒犯。\n",
      "DEBUG:word_pos_utils:quote[is_classic: False]: []\n",
      "DEBUG:word_pos_utils:examplar_words: ['衝撞之處，還請見諒！']\n",
      "DEBUG:word_pos_utils:word_freqs: [0]\n",
      "DEBUG:word_pos_utils:sense def [V]: 因、看。\n",
      "DEBUG:word_pos_utils:quote[is_classic: False]: []\n",
      "DEBUG:word_pos_utils:examplar_words: ['這件事衝你的面子就算了。']\n",
      "DEBUG:word_pos_utils:word_freqs: [0]\n",
      "DEBUG:word_pos_utils:sense def [V]: 向、對。\n",
      "DEBUG:word_pos_utils:quote[is_classic: False]: []\n",
      "DEBUG:word_pos_utils:examplar_words: ['這座別墅北面靠山，南面衝著大海。']\n",
      "DEBUG:word_pos_utils:word_freqs: [0]\n",
      "DEBUG:word_pos_utils:sense def [V]: 敲打。\n",
      "DEBUG:word_pos_utils:quote[is_classic: False]: []\n",
      "DEBUG:word_pos_utils:examplar_words: ['撞鐘']\n",
      "DEBUG:word_pos_utils:word_freqs: [0]\n",
      "DEBUG:word_pos_utils:sense def [V]: 碰擊。\n",
      "DEBUG:word_pos_utils:quote[is_classic: False]: []\n",
      "DEBUG:word_pos_utils:examplar_words: ['撞車', '撞傷', '相撞']\n",
      "DEBUG:word_pos_utils:word_freqs: [2, 4, 8]\n",
      "DEBUG:word_pos_utils:sense def [V]: 爭執、起衝突。\n",
      "DEBUG:word_pos_utils:quote[is_classic: False]: []\n",
      "DEBUG:word_pos_utils:examplar_words: ['那兩人一言不和，便衝撞起來了。']\n",
      "DEBUG:word_pos_utils:word_freqs: [0]\n",
      "DEBUG:word_pos_utils:sense def [V]: 碰巧遇到。\n",
      "DEBUG:word_pos_utils:quote[is_classic: False]: ['元．喬吉《金錢記．第二折》：「我待要趕時，不想撞著哥哥賀知章。」']\n",
      "DEBUG:word_pos_utils:examplar_words: ['撞見', '擇期不如撞期']\n",
      "DEBUG:word_pos_utils:word_freqs: [7, 0]\n"
     ]
    },
    {
     "data": {
      "text/plain": [
       "['V', 'V']"
      ]
     },
     "execution_count": 8,
     "metadata": {},
     "output_type": "execute_result"
    }
   ],
   "source": [
    "word_pos.query_word_pos(\"衝撞\", moe_inst)"
   ]
  },
  {
   "cell_type": "code",
   "execution_count": 9,
   "metadata": {},
   "outputs": [
    {
     "name": "stderr",
     "output_type": "stream",
     "text": [
      "DEBUG:word_pos_utils:sense def [N]: 流動的空氣。\n",
      "DEBUG:word_pos_utils:quote[is_classic: False]: []\n",
      "DEBUG:word_pos_utils:examplar_words: ['春風', '秋風', '樹欲靜而風而不止，子欲養而親不待。']\n",
      "DEBUG:word_pos_utils:word_freqs: [29, 12, 0]\n",
      "DEBUG:word_pos_utils:sense def [N]: 景象。\n",
      "DEBUG:word_pos_utils:quote[is_classic: False]: []\n",
      "DEBUG:word_pos_utils:examplar_words: ['風光', '風景']\n",
      "DEBUG:word_pos_utils:word_freqs: [117, 205]\n",
      "DEBUG:word_pos_utils:sense def [N]: 習氣、習俗。\n",
      "DEBUG:word_pos_utils:quote[is_classic: False]: []\n",
      "DEBUG:word_pos_utils:examplar_words: ['校風', '移風易俗', '傷風敗俗', '世風日下，人心不古。']\n",
      "DEBUG:word_pos_utils:word_freqs: [5, 5, 1, 0]\n",
      "DEBUG:word_pos_utils:sense def [N]: 神態、作為、氣韻。\n",
      "DEBUG:word_pos_utils:quote[is_classic: True]: ['《魏書．卷四十五．杜銓傳》：「銓學涉有長者風，與盧玄、高允等同被徵為中書博士。」']\n",
      "DEBUG:word_pos_utils:sense def [N]: 消息。\n",
      "DEBUG:word_pos_utils:quote[is_classic: True]: ['《水滸傳．第四九回》：「顧大嫂道：『伯伯，你的樂阿舅透風與我們了。』」']\n",
      "DEBUG:word_pos_utils:sense def [N]: 事端。\n",
      "DEBUG:word_pos_utils:quote[is_classic: False]: []\n",
      "DEBUG:word_pos_utils:examplar_words: ['風波']\n",
      "DEBUG:word_pos_utils:word_freqs: [82]\n",
      "DEBUG:word_pos_utils:sense def [N]: 榮寵。\n",
      "DEBUG:word_pos_utils:quote[is_classic: False]: []\n",
      "DEBUG:word_pos_utils:examplar_words: ['爭風吃醋']\n",
      "DEBUG:word_pos_utils:word_freqs: [4]\n",
      "DEBUG:word_pos_utils:sense def [N]: 《詩經》六義之一。指《詩經．國風》中收集的民俗歌謠。\n",
      "DEBUG:word_pos_utils:quote[is_classic: True]: ['《詩經．大序》：「故《詩》有六義焉，一曰風，二曰賦，三曰比，四曰興，五曰雅，六日頌。」']\n",
      "DEBUG:word_pos_utils:sense def [N]: 泛指民謠、歌謠。\n",
      "DEBUG:word_pos_utils:quote[is_classic: True]: ['《漢書．卷三○．藝文志》：「自孝武立樂府而采歌謠，於是有代趙之謳，秦楚之風。」', '南朝梁．劉勰《文心雕龍．樂府》：「匹夫庶婦，謳吟土風，詩官採言，樂盲被律。」']\n",
      "DEBUG:word_pos_utils:sense def [N]: 中醫上稱某些病症為「風」。\n",
      "DEBUG:word_pos_utils:quote[is_classic: False]: []\n",
      "DEBUG:word_pos_utils:examplar_words: ['風溼', '風寒', '羊癲風']\n",
      "DEBUG:word_pos_utils:word_freqs: [1, 5, 0]\n",
      "DEBUG:word_pos_utils:sense def [N]: 姓。如春秋時楚國有風胡子。\n",
      "DEBUG:word_pos_utils:quote[is_classic: False]: []\n",
      "DEBUG:word_pos_utils:examplar_words: []\n",
      "DEBUG:word_pos_utils:word_freqs: []\n",
      "DEBUG:word_pos_utils:sense def [N]: 二一四部首之一。\n",
      "DEBUG:word_pos_utils:quote[is_classic: False]: []\n",
      "DEBUG:word_pos_utils:examplar_words: []\n",
      "DEBUG:word_pos_utils:word_freqs: []\n",
      "DEBUG:word_pos_utils:sense def [V]: 借風力的吹拂使東西乾燥或潔淨。\n",
      "DEBUG:word_pos_utils:quote[is_classic: False]: []\n",
      "DEBUG:word_pos_utils:examplar_words: ['風乾', '風雞', '晒乾風淨']\n",
      "DEBUG:word_pos_utils:word_freqs: [5, 0, 0]\n",
      "DEBUG:word_pos_utils:sense def [V]: 動物雌雄相誘。\n",
      "DEBUG:word_pos_utils:quote[is_classic: False]: []\n",
      "DEBUG:word_pos_utils:examplar_words: ['風馬牛不相及']\n",
      "DEBUG:word_pos_utils:word_freqs: [5]\n",
      "DEBUG:word_pos_utils:sense def [V]: 吹、吹風。\n",
      "DEBUG:word_pos_utils:quote[is_classic: True]: ['《孟子．公孫丑下》：「有寒疾不可以風。」', '宋．蘇軾〈與孫叔靜〉：「屬飲藥汗不可以風，未即諸謝，又枉使旌。」']\n",
      "DEBUG:word_pos_utils:sense def [V]: 婉言勸諫。\n",
      "DEBUG:word_pos_utils:quote[is_classic: True]: ['《史記．卷五八．梁孝王世家》：「而王與任王后以此使人風止李太后。」', '《漢書．卷五七．司馬相如傳下》：「以風天子，且因宣其使指，令百姓皆知天子意。」']\n",
      "DEBUG:word_pos_utils:sense def [N]: 日光。\n",
      "DEBUG:word_pos_utils:quote[is_classic: True]: ['《文選．張載．七哀詩二首之二》：「朱光馳北陸，浮景忽西沉。」', '文選．陶淵明〈歸去來辭〉：「景翳翳以將入，撫孤松而盤桓。」']\n",
      "DEBUG:word_pos_utils:sense def [N]: 時光。\n",
      "DEBUG:word_pos_utils:quote[is_classic: True]: ['《文選．謝靈運．登江中孤嶼詩》：「懷雜道轉迥，尋異景不延。」']\n",
      "DEBUG:word_pos_utils:sense def [N]: 可供玩賞的形色。\n",
      "DEBUG:word_pos_utils:quote[is_classic: False]: []\n",
      "DEBUG:word_pos_utils:examplar_words: ['風景', '山景', '景物依舊，人事全非。']\n",
      "DEBUG:word_pos_utils:word_freqs: [205, 0, 0]\n",
      "DEBUG:word_pos_utils:sense def [N]: 情況、境遇。\n",
      "DEBUG:word_pos_utils:quote[is_classic: False]: ['宋．蘇軾〈西山戲題武昌王居士〉詩：「解襟顧景各箕踞，擊劍賡歌幾舉觥。」', '《紅樓夢．第四六回》：「率性把方才鳳姐過去回來所有的形景言詞，始末原由，告訴與他。」']\n",
      "DEBUG:word_pos_utils:examplar_words: ['晚景淒涼']\n",
      "DEBUG:word_pos_utils:word_freqs: [0]\n",
      "DEBUG:word_pos_utils:sense def [N]: 戲劇中因布幕不同而畫分的段落。\n",
      "DEBUG:word_pos_utils:quote[is_classic: False]: []\n",
      "DEBUG:word_pos_utils:examplar_words: ['第一幕第三景']\n",
      "DEBUG:word_pos_utils:word_freqs: [0]\n",
      "DEBUG:word_pos_utils:sense def [N]: 姓。如戰國時楚國有景差。\n",
      "DEBUG:word_pos_utils:quote[is_classic: False]: []\n",
      "DEBUG:word_pos_utils:examplar_words: []\n",
      "DEBUG:word_pos_utils:word_freqs: []\n",
      "DEBUG:word_pos_utils:sense def [V]: 仰慕。\n",
      "DEBUG:word_pos_utils:quote[is_classic: True]: ['《後漢書．卷三九．劉般傳》：「今愷景仰前脩，有伯夷之節。」', '唐．李白〈與韓荊州書〉：「何令人之景慕一至於此耶！」']\n",
      "DEBUG:word_pos_utils:sense def [N]: 物體的形影、陰影。\n",
      "DEBUG:word_pos_utils:quote[is_classic: True]: ['《周禮．地官．大司徒》：「以土圭之法測土深，正日景以求地中。」']\n"
     ]
    },
    {
     "data": {
      "text/plain": [
       "['N', 'N']"
      ]
     },
     "execution_count": 9,
     "metadata": {},
     "output_type": "execute_result"
    }
   ],
   "source": [
    "word_pos.query_word_pos(\"風景\", moe_inst)"
   ]
  },
  {
   "cell_type": "code",
   "execution_count": null,
   "metadata": {},
   "outputs": [],
   "source": []
  }
 ],
 "metadata": {
  "kernelspec": {
   "display_name": "Python 3",
   "language": "python",
   "name": "python3"
  },
  "language_info": {
   "codemirror_mode": {
    "name": "ipython",
    "version": 3
   },
   "file_extension": ".py",
   "mimetype": "text/x-python",
   "name": "python",
   "nbconvert_exporter": "python",
   "pygments_lexer": "ipython3",
   "version": "3.7.2"
  }
 },
 "nbformat": 4,
 "nbformat_minor": 2
}
