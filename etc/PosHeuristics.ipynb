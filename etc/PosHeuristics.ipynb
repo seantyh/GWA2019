{
 "cells": [
  {
   "cell_type": "code",
   "execution_count": 1,
   "metadata": {},
   "outputs": [],
   "source": [
    "%load_ext autoreload\n",
    "%autoreload 2"
   ]
  },
  {
   "cell_type": "code",
   "execution_count": 2,
   "metadata": {},
   "outputs": [],
   "source": [
    "import os\n",
    "import sys\n",
    "sys.path.append(\"../\")"
   ]
  },
  {
   "cell_type": "code",
   "execution_count": 5,
   "metadata": {},
   "outputs": [],
   "source": [
    "from GWA2019 import word_pos_utils as word_pos"
   ]
  },
  {
   "cell_type": "code",
   "execution_count": 6,
   "metadata": {},
   "outputs": [],
   "source": [
    "moe_inst = word_pos.MOE(\"../resources/dict-revised.json\")"
   ]
  },
  {
   "cell_type": "code",
   "execution_count": 7,
   "metadata": {},
   "outputs": [
    {
     "data": {
      "text/plain": [
       "[{'pos': 'N',\n",
       "  'definition': '由各種線條、形狀、色彩等描繪成的形象或畫面。',\n",
       "  'example': ['如：「地圖」、「設計圖」、「插圖」、「草圖」。'],\n",
       "  'quote': []},\n",
       " {'pos': 'N',\n",
       "  'definition': '疆域。',\n",
       "  'example': ['如：「版圖」。'],\n",
       "  'quote': ['唐．杜甫〈秦州雜詩〉二○首之三：「州圖領同谷，驛道出流沙。」']},\n",
       " {'pos': 'N',\n",
       "  'definition': '欲念。',\n",
       "  'example': [],\n",
       "  'quote': ['《文選．陸機．五等論》：「故彊晉收其請隧之圖，暴楚頓觀鼎之志。」',\n",
       "   '唐．杜甫〈過南嶽入洞庭湖〉詩：「帝子留遺恨，曹公屈壯圖。」']},\n",
       " {'pos': 'V',\n",
       "  'definition': '繪畫、描繪。',\n",
       "  'example': [],\n",
       "  'quote': ['《南史．卷八．梁元帝本紀》：「自圖宣尼像，為之贊而書之。」',\n",
       "   '《西遊記．第三二回》：「我記得他的模樣，曾將他師徒畫了一個影，圖了一個形，你可拿去。」']},\n",
       " {'pos': 'V',\n",
       "  'definition': '策劃、考慮。',\n",
       "  'example': ['如：「圖謀」。'],\n",
       "  'quote': ['《史記．卷八六．刺客傳．曹沬傳》：「今魯城壞，即壓齊境，君其圖之！」',\n",
       "   '宋．曾鞏〈宜黃縣學記〉：「天子圖當世之務，而以學為先，於是天下之學乃得立。」']},\n",
       " {'pos': 'V',\n",
       "  'definition': '謀取、謀求。',\n",
       "  'example': ['如：「貪圖」、「唯利是圖」。'],\n",
       "  'quote': ['《戰國策．秦策四》：「韓、魏從，而天下可圖也。」', '《紅樓夢．第七○回》：「放風箏圖的是這一樂，所以又說放晦氣。」']}]"
      ]
     },
     "execution_count": 7,
     "metadata": {},
     "output_type": "execute_result"
    }
   ],
   "source": [
    "moe_inst.query_senses(\"圖\")"
   ]
  },
  {
   "cell_type": "code",
   "execution_count": 9,
   "metadata": {},
   "outputs": [
    {
     "data": {
      "text/plain": [
       "['V', 'N']"
      ]
     },
     "execution_count": 9,
     "metadata": {},
     "output_type": "execute_result"
    }
   ],
   "source": [
    "word_pos.query_word_pos(\"企圖\", moe_inst)"
   ]
  },
  {
   "cell_type": "code",
   "execution_count": null,
   "metadata": {},
   "outputs": [],
   "source": []
  }
 ],
 "metadata": {
  "kernelspec": {
   "display_name": "Python 3",
   "language": "python",
   "name": "python3"
  },
  "language_info": {
   "codemirror_mode": {
    "name": "ipython",
    "version": 3
   },
   "file_extension": ".py",
   "mimetype": "text/x-python",
   "name": "python",
   "nbconvert_exporter": "python",
   "pygments_lexer": "ipython3",
   "version": "3.7.0"
  }
 },
 "nbformat": 4,
 "nbformat_minor": 2
}
