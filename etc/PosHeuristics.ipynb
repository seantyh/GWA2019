{
 "cells": [
  {
   "cell_type": "code",
   "execution_count": 2,
   "metadata": {},
   "outputs": [],
   "source": [
    "%load_ext autoreload\n",
    "%autoreload 2"
   ]
  },
  {
   "cell_type": "code",
   "execution_count": 3,
   "metadata": {},
   "outputs": [],
   "source": [
    "import os\n",
    "import sys\n",
    "sys.path.append(\"../\")"
   ]
  },
  {
   "cell_type": "code",
   "execution_count": 4,
   "metadata": {},
   "outputs": [],
   "source": [
    "import pandas as pd\n",
    "from GWA2019 import word_pos_utils as word_pos"
   ]
  },
  {
   "cell_type": "code",
   "execution_count": 5,
   "metadata": {},
   "outputs": [],
   "source": [
    "moe_inst = word_pos.MOE(\"../resources/dict-revised.json\")"
   ]
  },
  {
   "cell_type": "markdown",
   "metadata": {},
   "source": [
    "# query_word_pos test"
   ]
  },
  {
   "cell_type": "code",
   "execution_count": 6,
   "metadata": {},
   "outputs": [
    {
     "data": {
      "text/plain": [
       "['N', 'V']"
      ]
     },
     "execution_count": 6,
     "metadata": {},
     "output_type": "execute_result"
    }
   ],
   "source": [
    "word_pos.query_word_pos(\"心跳\", moe_inst)"
   ]
  },
  {
   "cell_type": "code",
   "execution_count": 7,
   "metadata": {},
   "outputs": [
    {
     "data": {
      "text/plain": [
       "['V', 'N']"
      ]
     },
     "execution_count": 7,
     "metadata": {},
     "output_type": "execute_result"
    }
   ],
   "source": [
    "word_pos.query_word_pos(\"企圖\", moe_inst)"
   ]
  },
  {
   "cell_type": "code",
   "execution_count": 8,
   "metadata": {},
   "outputs": [
    {
     "data": {
      "text/plain": [
       "['V', 'V']"
      ]
     },
     "execution_count": 8,
     "metadata": {},
     "output_type": "execute_result"
    }
   ],
   "source": [
    "word_pos.query_word_pos(\"衝撞\", moe_inst)"
   ]
  },
  {
   "cell_type": "code",
   "execution_count": 9,
   "metadata": {},
   "outputs": [
    {
     "data": {
      "text/plain": [
       "['N', 'N']"
      ]
     },
     "execution_count": 9,
     "metadata": {},
     "output_type": "execute_result"
    }
   ],
   "source": [
    "word_pos.query_word_pos(\"風景\", moe_inst)"
   ]
  },
  {
   "cell_type": "markdown",
   "metadata": {},
   "source": [
    "# apply the heuristics to word pair data"
   ]
  },
  {
   "cell_type": "code",
   "execution_count": 10,
   "metadata": {},
   "outputs": [],
   "source": [
    "hyper_pairs = pd.read_csv(\"../data/merged_checked.csv\")\n",
    "hyper_pairs.drop(\"statement\", axis = 1, inplace=True)"
   ]
  },
  {
   "cell_type": "code",
   "execution_count": 11,
   "metadata": {},
   "outputs": [],
   "source": [
    "def query_word_pos_wrapper(x):\n",
    "    ret = word_pos.query_word_pos(x, moe_inst)\n",
    "    if any([x is None for x in ret]):\n",
    "        return \"--\"\n",
    "    else:\n",
    "        return \"\".join(ret)\n",
    "hyper_pairs[\"struct\"] = hyper_pairs.lemma.apply(query_word_pos_wrapper)"
   ]
  },
  {
   "cell_type": "code",
   "execution_count": 12,
   "metadata": {},
   "outputs": [],
   "source": [
    "word_struct = hyper_pairs.iloc[:,[4,0,1,2,3]]"
   ]
  },
  {
   "cell_type": "code",
   "execution_count": 13,
   "metadata": {},
   "outputs": [
    {
     "data": {
      "text/plain": [
       "['N', None]"
      ]
     },
     "execution_count": 13,
     "metadata": {},
     "output_type": "execute_result"
    }
   ],
   "source": [
    "word_pos.query_word_pos(\"一些\", moe_inst)"
   ]
  },
  {
   "cell_type": "code",
   "execution_count": 14,
   "metadata": {},
   "outputs": [],
   "source": [
    "word_struct.to_csv(\"../data/annot_word_struct/word_struct.csv\")\n",
    "## add a copy used to annotate\n",
    "word_struct.to_csv(\"../data/annot_word_struct/annot_word_struct.csv\")"
   ]
  },
  {
   "cell_type": "code",
   "execution_count": 15,
   "metadata": {},
   "outputs": [],
   "source": [
    "stat_word_struct = word_struct[[\"struct\", \"response\"]].groupby([\"struct\", \"response\"]).size()\n",
    "stat_word_struct = stat_word_struct.reset_index().pivot(index=\"struct\", columns=\"response\")"
   ]
  },
  {
   "cell_type": "code",
   "execution_count": 16,
   "metadata": {},
   "outputs": [],
   "source": [
    "stat_word_struct.columns = stat_word_struct.columns.droplevel(0)"
   ]
  },
  {
   "cell_type": "code",
   "execution_count": 17,
   "metadata": {},
   "outputs": [],
   "source": [
    "stat_word_struct[\"sum\"] = stat_word_struct.sum(1)"
   ]
  },
  {
   "cell_type": "code",
   "execution_count": 18,
   "metadata": {},
   "outputs": [
    {
     "data": {
      "text/html": [
       "<div>\n",
       "<style scoped>\n",
       "    .dataframe tbody tr th:only-of-type {\n",
       "        vertical-align: middle;\n",
       "    }\n",
       "\n",
       "    .dataframe tbody tr th {\n",
       "        vertical-align: top;\n",
       "    }\n",
       "\n",
       "    .dataframe thead th {\n",
       "        text-align: right;\n",
       "    }\n",
       "</style>\n",
       "<table border=\"1\" class=\"dataframe\">\n",
       "  <thead>\n",
       "    <tr style=\"text-align: right;\">\n",
       "      <th>response</th>\n",
       "      <th>0</th>\n",
       "      <th>1</th>\n",
       "      <th>sum</th>\n",
       "      <th>prop</th>\n",
       "    </tr>\n",
       "    <tr>\n",
       "      <th>struct</th>\n",
       "      <th></th>\n",
       "      <th></th>\n",
       "      <th></th>\n",
       "      <th></th>\n",
       "    </tr>\n",
       "  </thead>\n",
       "  <tbody>\n",
       "    <tr>\n",
       "      <th>--</th>\n",
       "      <td>204</td>\n",
       "      <td>118</td>\n",
       "      <td>322</td>\n",
       "      <td>0.366460</td>\n",
       "    </tr>\n",
       "    <tr>\n",
       "      <th>NN</th>\n",
       "      <td>427</td>\n",
       "      <td>311</td>\n",
       "      <td>738</td>\n",
       "      <td>0.421409</td>\n",
       "    </tr>\n",
       "    <tr>\n",
       "      <th>NV</th>\n",
       "      <td>153</td>\n",
       "      <td>94</td>\n",
       "      <td>247</td>\n",
       "      <td>0.380567</td>\n",
       "    </tr>\n",
       "    <tr>\n",
       "      <th>VN</th>\n",
       "      <td>203</td>\n",
       "      <td>100</td>\n",
       "      <td>303</td>\n",
       "      <td>0.330033</td>\n",
       "    </tr>\n",
       "    <tr>\n",
       "      <th>VV</th>\n",
       "      <td>123</td>\n",
       "      <td>82</td>\n",
       "      <td>205</td>\n",
       "      <td>0.400000</td>\n",
       "    </tr>\n",
       "  </tbody>\n",
       "</table>\n",
       "</div>"
      ],
      "text/plain": [
       "response    0    1  sum      prop\n",
       "struct                           \n",
       "--        204  118  322  0.366460\n",
       "NN        427  311  738  0.421409\n",
       "NV        153   94  247  0.380567\n",
       "VN        203  100  303  0.330033\n",
       "VV        123   82  205  0.400000"
      ]
     },
     "execution_count": 18,
     "metadata": {},
     "output_type": "execute_result"
    }
   ],
   "source": [
    "stat_word_struct[\"prop\"] = stat_word_struct.iloc[:,1] / stat_word_struct[\"sum\"]\n",
    "stat_word_struct"
   ]
  },
  {
   "cell_type": "code",
   "execution_count": 19,
   "metadata": {},
   "outputs": [],
   "source": [
    "from tabulate import tabulate"
   ]
  },
  {
   "cell_type": "code",
   "execution_count": 20,
   "metadata": {},
   "outputs": [
    {
     "name": "stdout",
     "output_type": "stream",
     "text": [
      "      0    1    sum    prop\n",
      "--  ---  ---  -----  ------\n",
      "--  204  118    322    0.37\n",
      "NN  427  311    738    0.42\n",
      "NV  153   94    247    0.38\n",
      "VN  203  100    303    0.33\n",
      "VV  123   82    205    0.40\n"
     ]
    }
   ],
   "source": [
    "print(tabulate(stat_word_struct, headers=stat_word_struct.columns, floatfmt=[\".0f\"] * 4 + [\".2f\"]))"
   ]
  },
  {
   "cell_type": "markdown",
   "metadata": {},
   "source": [
    "# Use CWN to determine POS structure"
   ]
  },
  {
   "cell_type": "code",
   "execution_count": 29,
   "metadata": {},
   "outputs": [],
   "source": [
    "from CwnGraph import CwnBase\n",
    "from itertools import chain\n",
    "cwn = CwnBase()"
   ]
  },
  {
   "cell_type": "code",
   "execution_count": 56,
   "metadata": {},
   "outputs": [],
   "source": [
    "unk_structs = word_struct.loc[word_struct.struct==\"--\", :].copy()"
   ]
  },
  {
   "cell_type": "code",
   "execution_count": 51,
   "metadata": {},
   "outputs": [],
   "source": [
    "\n",
    "def query_word_pos_cwn(word):\n",
    "    if len(word) > 1:\n",
    "        poses = [query_word_pos_cwn(w) for w in word]\n",
    "        if any([x==\"-\" for x in poses]):\n",
    "            return \"--\"\n",
    "        else:\n",
    "            return \"\".join(poses)\n",
    "    else:\n",
    "        senses = list(chain.from_iterable(x.senses for x in cwn.find_lemma(word)))\n",
    "        n_N = sum(1 for x in senses if x.pos.startswith(\"N\"))\n",
    "        n_V = sum(1 for x in senses if x.pos.startswith(\"V\"))\n",
    "        if n_N > n_V:\n",
    "            return \"N\"\n",
    "        elif n_V > n_N:\n",
    "            return \"V\"\n",
    "        else:\n",
    "            return \"-\"    "
   ]
  },
  {
   "cell_type": "code",
   "execution_count": 52,
   "metadata": {},
   "outputs": [],
   "source": [
    "cwn_struct = unk_structs.lemma.apply(query_word_pos_cwn)"
   ]
  },
  {
   "cell_type": "code",
   "execution_count": 53,
   "metadata": {},
   "outputs": [
    {
     "data": {
      "text/plain": [
       "VV    146\n",
       "NN     85\n",
       "VN     48\n",
       "NV     29\n",
       "--     14\n",
       "Name: lemma, dtype: int64"
      ]
     },
     "execution_count": 53,
     "metadata": {},
     "output_type": "execute_result"
    }
   ],
   "source": [
    "cwn_struct.value_counts()"
   ]
  },
  {
   "cell_type": "code",
   "execution_count": 57,
   "metadata": {},
   "outputs": [],
   "source": [
    "unk_structs[\"cwn_struct\"] = cwn_struct"
   ]
  },
  {
   "cell_type": "code",
   "execution_count": 73,
   "metadata": {},
   "outputs": [],
   "source": [
    "word_struct_m = word_struct.merge(unk_structs[[\"lemma\", \"cwn_struct\"]], left_on=\"lemma\", right_on=\"lemma\", how=\"left\")\n",
    "word_struct_m.loc[word_struct.struct==\"--\", \"struct\"] = word_struct_m.loc[word_struct.struct==\"--\", \"cwn_struct\"]\n",
    "word_struct_m.drop(\"cwn_struct\", axis=1, inplace=True)"
   ]
  },
  {
   "cell_type": "code",
   "execution_count": 98,
   "metadata": {},
   "outputs": [],
   "source": [
    "word_struct_m.to_csv(\"../data/annot_word_struct/annot_word_struct.csv\")"
   ]
  },
  {
   "cell_type": "code",
   "execution_count": 92,
   "metadata": {},
   "outputs": [
    {
     "data": {
      "text/html": [
       "<div>\n",
       "<style scoped>\n",
       "    .dataframe tbody tr th:only-of-type {\n",
       "        vertical-align: middle;\n",
       "    }\n",
       "\n",
       "    .dataframe tbody tr th {\n",
       "        vertical-align: top;\n",
       "    }\n",
       "\n",
       "    .dataframe thead th {\n",
       "        text-align: right;\n",
       "    }\n",
       "</style>\n",
       "<table border=\"1\" class=\"dataframe\">\n",
       "  <thead>\n",
       "    <tr style=\"text-align: right;\">\n",
       "      <th>response</th>\n",
       "      <th>0</th>\n",
       "      <th>1</th>\n",
       "      <th>sum</th>\n",
       "      <th>prop</th>\n",
       "    </tr>\n",
       "    <tr>\n",
       "      <th>struct</th>\n",
       "      <th></th>\n",
       "      <th></th>\n",
       "      <th></th>\n",
       "      <th></th>\n",
       "    </tr>\n",
       "  </thead>\n",
       "  <tbody>\n",
       "    <tr>\n",
       "      <th>--</th>\n",
       "      <td>9</td>\n",
       "      <td>5</td>\n",
       "      <td>14</td>\n",
       "      <td>0.357143</td>\n",
       "    </tr>\n",
       "    <tr>\n",
       "      <th>NN</th>\n",
       "      <td>486</td>\n",
       "      <td>337</td>\n",
       "      <td>823</td>\n",
       "      <td>0.409478</td>\n",
       "    </tr>\n",
       "    <tr>\n",
       "      <th>NV</th>\n",
       "      <td>174</td>\n",
       "      <td>102</td>\n",
       "      <td>276</td>\n",
       "      <td>0.369565</td>\n",
       "    </tr>\n",
       "    <tr>\n",
       "      <th>VN</th>\n",
       "      <td>236</td>\n",
       "      <td>115</td>\n",
       "      <td>351</td>\n",
       "      <td>0.327635</td>\n",
       "    </tr>\n",
       "    <tr>\n",
       "      <th>VV</th>\n",
       "      <td>205</td>\n",
       "      <td>146</td>\n",
       "      <td>351</td>\n",
       "      <td>0.415954</td>\n",
       "    </tr>\n",
       "  </tbody>\n",
       "</table>\n",
       "</div>"
      ],
      "text/plain": [
       "response    0    1  sum      prop\n",
       "struct                           \n",
       "--          9    5   14  0.357143\n",
       "NN        486  337  823  0.409478\n",
       "NV        174  102  276  0.369565\n",
       "VN        236  115  351  0.327635\n",
       "VV        205  146  351  0.415954"
      ]
     },
     "execution_count": 92,
     "metadata": {},
     "output_type": "execute_result"
    }
   ],
   "source": [
    "word_struct_stat = word_struct_m.groupby([\"struct\", \"response\"]).size().reset_index()\n",
    "word_struct_stat = word_struct_stat.pivot(index=\"struct\", columns=\"response\")\n",
    "word_struct_stat.columns = word_struct_stat.columns.droplevel(0)\n",
    "word_struct_stat[\"sum\"] = word_struct_stat.sum(1)\n",
    "word_struct_stat[\"prop\"] = word_struct_stat.iloc[:,1] / word_struct_stat[\"sum\"]\n",
    "word_struct_stat"
   ]
  },
  {
   "cell_type": "markdown",
   "metadata": {},
   "source": [
    "# After manual resolved"
   ]
  },
  {
   "cell_type": "code",
   "execution_count": 99,
   "metadata": {},
   "outputs": [
    {
     "data": {
      "text/html": [
       "<div>\n",
       "<style scoped>\n",
       "    .dataframe tbody tr th:only-of-type {\n",
       "        vertical-align: middle;\n",
       "    }\n",
       "\n",
       "    .dataframe tbody tr th {\n",
       "        vertical-align: top;\n",
       "    }\n",
       "\n",
       "    .dataframe thead th {\n",
       "        text-align: right;\n",
       "    }\n",
       "</style>\n",
       "<table border=\"1\" class=\"dataframe\">\n",
       "  <thead>\n",
       "    <tr style=\"text-align: right;\">\n",
       "      <th>response</th>\n",
       "      <th>0</th>\n",
       "      <th>1</th>\n",
       "      <th>sum</th>\n",
       "      <th>prop</th>\n",
       "    </tr>\n",
       "    <tr>\n",
       "      <th>struct</th>\n",
       "      <th></th>\n",
       "      <th></th>\n",
       "      <th></th>\n",
       "      <th></th>\n",
       "    </tr>\n",
       "  </thead>\n",
       "  <tbody>\n",
       "    <tr>\n",
       "      <th>NN</th>\n",
       "      <td>487</td>\n",
       "      <td>337</td>\n",
       "      <td>824</td>\n",
       "      <td>0.408981</td>\n",
       "    </tr>\n",
       "    <tr>\n",
       "      <th>NV</th>\n",
       "      <td>174</td>\n",
       "      <td>102</td>\n",
       "      <td>276</td>\n",
       "      <td>0.369565</td>\n",
       "    </tr>\n",
       "    <tr>\n",
       "      <th>VN</th>\n",
       "      <td>237</td>\n",
       "      <td>116</td>\n",
       "      <td>353</td>\n",
       "      <td>0.328612</td>\n",
       "    </tr>\n",
       "    <tr>\n",
       "      <th>VV</th>\n",
       "      <td>212</td>\n",
       "      <td>150</td>\n",
       "      <td>362</td>\n",
       "      <td>0.414365</td>\n",
       "    </tr>\n",
       "  </tbody>\n",
       "</table>\n",
       "</div>"
      ],
      "text/plain": [
       "response    0    1  sum      prop\n",
       "struct                           \n",
       "NN        487  337  824  0.408981\n",
       "NV        174  102  276  0.369565\n",
       "VN        237  116  353  0.328612\n",
       "VV        212  150  362  0.414365"
      ]
     },
     "execution_count": 99,
     "metadata": {},
     "output_type": "execute_result"
    }
   ],
   "source": [
    "word_struct = pd.read_csv(\"../data/annot_word_struct/annot_word_struct_manual.csv\")\n",
    "word_struct_stat = word_struct.groupby([\"struct\", \"response\"]).size().reset_index()\n",
    "word_struct_stat = word_struct_stat.pivot(index=\"struct\", columns=\"response\")\n",
    "word_struct_stat.columns = word_struct_stat.columns.droplevel(0)\n",
    "word_struct_stat[\"sum\"] = word_struct_stat.sum(1)\n",
    "word_struct_stat[\"prop\"] = word_struct_stat.iloc[:,1] / word_struct_stat[\"sum\"]\n",
    "word_struct_stat"
   ]
  },
  {
   "cell_type": "code",
   "execution_count": null,
   "metadata": {},
   "outputs": [],
   "source": []
  }
 ],
 "metadata": {
  "kernelspec": {
   "display_name": "Python 3",
   "language": "python",
   "name": "python3"
  },
  "language_info": {
   "codemirror_mode": {
    "name": "ipython",
    "version": 3
   },
   "file_extension": ".py",
   "mimetype": "text/x-python",
   "name": "python",
   "nbconvert_exporter": "python",
   "pygments_lexer": "ipython3",
   "version": "3.7.2"
  }
 },
 "nbformat": 4,
 "nbformat_minor": 2
}
